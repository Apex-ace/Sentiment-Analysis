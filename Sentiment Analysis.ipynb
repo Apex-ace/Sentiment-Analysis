{
  "cells": [
    {
      "cell_type": "markdown",
      "metadata": {
        "id": "ongjKAbfHuiN"
      },
      "source": [
        "# **Sentiment Analysis**"
      ]
    },
    {
      "cell_type": "code",
      "execution_count": null,
      "metadata": {},
      "outputs": [],
      "source": [
        "\n",
        "# ! pip install nltk\n",
        "\n",
        "# import nltk\n",
        "# print(nltk.__version__)  # This should print the version of nltk installed\n",
        "\n",
        "\n",
        "# import sys\n",
        "# print(sys.executable)\n",
        "\n",
        "\n",
        "# !{sys.executable} -m pip install nltk\n",
        "\n",
        "\n",
        "\n",
        "\n",
        "# import nltk\n",
        "# print(nltk.__version__)  # This should print the version of nltk installed\n"
      ]
    },
    {
      "cell_type": "code",
      "execution_count": null,
      "metadata": {},
      "outputs": [],
      "source": [
        "# ! pip install textblob\n",
        "\n",
        "# import sys\n",
        "# print(sys.executable)\n",
        "\n",
        "# !{sys.executable} -m pip install textblob\n",
        "\n",
        "\n",
        "# from importlib.metadata import version\n",
        "# print(version('textblob'))\n",
        "\n"
      ]
    },
    {
      "cell_type": "code",
      "execution_count": 3,
      "metadata": {},
      "outputs": [
        {
          "name": "stdout",
          "output_type": "stream",
          "text": [
            "Requirement already satisfied: wordcloud in c:\\users\\asus\\miniconda3\\lib\\site-packages (1.9.4)\n",
            "Requirement already satisfied: numpy>=1.6.1 in c:\\users\\asus\\miniconda3\\lib\\site-packages (from wordcloud) (2.2.6)\n",
            "Requirement already satisfied: pillow in c:\\users\\asus\\miniconda3\\lib\\site-packages (from wordcloud) (10.4.0)\n",
            "Requirement already satisfied: matplotlib in c:\\users\\asus\\miniconda3\\lib\\site-packages (from wordcloud) (3.10.3)\n",
            "Requirement already satisfied: contourpy>=1.0.1 in c:\\users\\asus\\miniconda3\\lib\\site-packages (from matplotlib->wordcloud) (1.3.2)\n",
            "Requirement already satisfied: cycler>=0.10 in c:\\users\\asus\\miniconda3\\lib\\site-packages (from matplotlib->wordcloud) (0.12.1)\n",
            "Requirement already satisfied: fonttools>=4.22.0 in c:\\users\\asus\\miniconda3\\lib\\site-packages (from matplotlib->wordcloud) (4.59.0)\n",
            "Requirement already satisfied: kiwisolver>=1.3.1 in c:\\users\\asus\\miniconda3\\lib\\site-packages (from matplotlib->wordcloud) (1.4.8)\n",
            "Requirement already satisfied: packaging>=20.0 in c:\\users\\asus\\miniconda3\\lib\\site-packages (from matplotlib->wordcloud) (24.2)\n",
            "Requirement already satisfied: pyparsing>=2.3.1 in c:\\users\\asus\\miniconda3\\lib\\site-packages (from matplotlib->wordcloud) (3.2.3)\n",
            "Requirement already satisfied: python-dateutil>=2.7 in c:\\users\\asus\\miniconda3\\lib\\site-packages (from matplotlib->wordcloud) (2.9.0.post0)\n",
            "Requirement already satisfied: six>=1.5 in c:\\users\\asus\\miniconda3\\lib\\site-packages (from python-dateutil>=2.7->matplotlib->wordcloud) (1.17.0)\n"
          ]
        }
      ],
      "source": [
        "! pip install wordcloud\n",
        "\n",
        "\n",
        "# import sys\n",
        "# print(sys.executable)\n",
        "\n",
        "# !{sys.executable} -m pip install wordcloud\n",
        "\n",
        "# import wordcloud\n",
        "# print(wordcloud.__version__)"
      ]
    },
    {
      "cell_type": "code",
      "execution_count": 4,
      "metadata": {},
      "outputs": [],
      "source": [
        "# ! pip install imblearn\n",
        "\n",
        "\n",
        "# import sys\n",
        "# print(sys.executable)\n",
        "\n",
        "# !{sys.executable} -m pip install imblearn\n",
        "\n",
        "# import imblearn\n",
        "# print(imblearn.__version__)"
      ]
    },
    {
      "cell_type": "markdown",
      "metadata": {
        "id": "klB2LEACJT-i"
      },
      "source": [
        "\n",
        "\n",
        "---\n",
        "\n"
      ]
    },
    {
      "cell_type": "markdown",
      "metadata": {
        "id": "bYlonQXTqdsb"
      },
      "source": [
        "# Libraries"
      ]
    },
    {
      "cell_type": "markdown",
      "metadata": {
        "id": "nLPslv2kJd_q"
      },
      "source": [
        "**Data Libraries**"
      ]
    },
    {
      "cell_type": "code",
      "execution_count": 5,
      "metadata": {
        "id": "OKnf1Te2JiKr"
      },
      "outputs": [],
      "source": [
        "import pandas as pd\n",
        "import numpy as np\n",
        "import matplotlib.pyplot as plt"
      ]
    },
    {
      "cell_type": "markdown",
      "metadata": {
        "id": "MK4hJYtj26ze"
      },
      "source": [
        "**NLP Text Libraries**"
      ]
    },
    {
      "cell_type": "code",
      "execution_count": 6,
      "metadata": {
        "id": "pCCcJZIq27XQ"
      },
      "outputs": [
        {
          "name": "stderr",
          "output_type": "stream",
          "text": [
            "[nltk_data] Downloading package punkt to\n",
            "[nltk_data]     C:\\Users\\ASUS\\AppData\\Roaming\\nltk_data...\n",
            "[nltk_data]   Package punkt is already up-to-date!\n",
            "[nltk_data] Downloading package stopwords to\n",
            "[nltk_data]     C:\\Users\\ASUS\\AppData\\Roaming\\nltk_data...\n",
            "[nltk_data]   Package stopwords is already up-to-date!\n",
            "[nltk_data] Downloading package wordnet to\n",
            "[nltk_data]     C:\\Users\\ASUS\\AppData\\Roaming\\nltk_data...\n",
            "[nltk_data]   Package wordnet is already up-to-date!\n"
          ]
        }
      ],
      "source": [
        "import string\n",
        "import re\n",
        "import nltk\n",
        "import nltk.corpus\n",
        "nltk.download(\"punkt\")\n",
        "nltk.download(\"stopwords\")\n",
        "nltk.download(\"wordnet\")\n",
        "from nltk.stem import WordNetLemmatizer"
      ]
    },
    {
      "cell_type": "markdown",
      "metadata": {
        "id": "JtEfdUiq3GUa"
      },
      "source": [
        "**EDA Analysis**"
      ]
    },
    {
      "cell_type": "code",
      "execution_count": 7,
      "metadata": {
        "id": "UbcdiNne3KHh"
      },
      "outputs": [],
      "source": [
        "# Text Polarity\n",
        "from textblob import TextBlob # type: ignore\n",
        "\n",
        "# Text Vectorizer\n",
        "from sklearn.feature_extraction.text import CountVectorizer\n",
        "\n",
        "# Word Cloud\n",
        "from wordcloud import WordCloud # type: ignore"
      ]
    },
    {
      "cell_type": "markdown",
      "metadata": {
        "id": "nkQ7465U3glG"
      },
      "source": [
        "**Feature Engineering**"
      ]
    },
    {
      "cell_type": "code",
      "execution_count": 8,
      "metadata": {
        "id": "6fhwyQzB3nXp"
      },
      "outputs": [],
      "source": [
        "# Label Encoding\n",
        "from sklearn.preprocessing import LabelEncoder\n",
        "\n",
        "# TF-IDF Vectorizer\n",
        "from sklearn.feature_extraction.text import TfidfVectorizer\n",
        "\n",
        "# Resampling\n",
        "from imblearn.over_sampling import SMOTE\n",
        "from collections import Counter\n",
        "\n",
        "# Splitting Dataset\n",
        "from sklearn.model_selection import train_test_split"
      ]
    },
    {
      "cell_type": "markdown",
      "metadata": {
        "id": "3Q-F0wVH39N_"
      },
      "source": [
        "**Model Selection and Evaluation**"
      ]
    },
    {
      "cell_type": "code",
      "execution_count": 9,
      "metadata": {
        "id": "8ZVnb3z04BRU"
      },
      "outputs": [],
      "source": [
        "# Model Building\n",
        "from sklearn.svm import SVC\n",
        "from sklearn.tree import DecisionTreeClassifier\n",
        "from sklearn.linear_model import LogisticRegression\n",
        "from sklearn.ensemble import RandomForestClassifier\n",
        "from sklearn.naive_bayes import BernoulliNB\n",
        "from sklearn.neighbors import KNeighborsClassifier\n",
        "from sklearn.model_selection import cross_val_score\n",
        "\n",
        "# Hyperparameter Tuning\n",
        "from sklearn.model_selection import GridSearchCV\n",
        "\n",
        "# Model Metrics\n",
        "from sklearn.metrics import confusion_matrix, accuracy_score, classification_report"
      ]
    },
    {
      "cell_type": "markdown",
      "metadata": {
        "id": "e7P3MfO4rAo5"
      },
      "source": [
        "\n",
        "\n",
        "---\n",
        "\n"
      ]
    },
    {
      "cell_type": "markdown",
      "metadata": {
        "id": "iHGQtriJqr5b"
      },
      "source": [
        "# The Dataset"
      ]
    },
    {
      "cell_type": "markdown",
      "metadata": {
        "id": "CnvxGfForHrU"
      },
      "source": [
        "*Overall, the dataset talks about the feedback received after the customers purchased musical instruments*"
      ]
    },
    {
      "cell_type": "markdown",
      "metadata": {
        "id": "lTMTNbaTMYaq"
      },
      "source": [
        "**Read The Dataset**"
      ]
    },
    {
      "cell_type": "code",
      "execution_count": 10,
      "metadata": {
        "id": "9VjFT2uzMdkh"
      },
      "outputs": [],
      "source": [
        "dataset = pd.read_csv(\"Instruments_Reviews.csv\")"
      ]
    },
    {
      "cell_type": "code",
      "execution_count": 11,
      "metadata": {},
      "outputs": [
        {
          "data": {
            "application/vnd.microsoft.datawrangler.viewer.v0+json": {
              "columns": [
                {
                  "name": "index",
                  "rawType": "int64",
                  "type": "integer"
                },
                {
                  "name": "reviewerID",
                  "rawType": "object",
                  "type": "string"
                },
                {
                  "name": "asin",
                  "rawType": "object",
                  "type": "string"
                },
                {
                  "name": "reviewerName",
                  "rawType": "object",
                  "type": "string"
                },
                {
                  "name": "helpful",
                  "rawType": "object",
                  "type": "string"
                },
                {
                  "name": "reviewText",
                  "rawType": "object",
                  "type": "string"
                },
                {
                  "name": "overall",
                  "rawType": "float64",
                  "type": "float"
                },
                {
                  "name": "summary",
                  "rawType": "object",
                  "type": "string"
                },
                {
                  "name": "unixReviewTime",
                  "rawType": "int64",
                  "type": "integer"
                },
                {
                  "name": "reviewTime",
                  "rawType": "object",
                  "type": "string"
                }
              ],
              "ref": "f425b65d-5759-41b4-a63b-94e43761d1e4",
              "rows": [
                [
                  "0",
                  "A2IBPI20UZIR0U",
                  "1384719342",
                  "cassandra tu \"Yeah, well, that's just like, u...",
                  "[0, 0]",
                  "Not much to write about here, but it does exactly what it's supposed to. filters out the pop sounds. now my recordings are much more crisp. it is one of the lowest prices pop filters on amazon so might as well buy it, they honestly work the same despite their pricing,",
                  "5.0",
                  "good",
                  "1393545600",
                  "02 28, 2014"
                ],
                [
                  "1",
                  "A14VAT5EAX3D9S",
                  "1384719342",
                  "Jake",
                  "[13, 14]",
                  "The product does exactly as it should and is quite affordable.I did not realized it was double screened until it arrived, so it was even better than I had expected.As an added bonus, one of the screens carries a small hint of the smell of an old grape candy I used to buy, so for reminiscent's sake, I cannot stop putting the pop filter next to my nose and smelling it after recording. :DIf you needed a pop filter, this will work just as well as the expensive ones, and it may even come with a pleasing aroma like mine did!Buy this product! :]",
                  "5.0",
                  "Jake",
                  "1363392000",
                  "03 16, 2013"
                ],
                [
                  "2",
                  "A195EZSQDW3E21",
                  "1384719342",
                  "Rick Bennette \"Rick Bennette\"",
                  "[1, 1]",
                  "The primary job of this device is to block the breath that would otherwise produce a popping sound, while allowing your voice to pass through with no noticeable reduction of volume or high frequencies. The double cloth filter blocks the pops and lets the voice through with no coloration. The metal clamp mount attaches to the mike stand secure enough to keep it attached. The goose neck needs a little coaxing to stay where you put it.",
                  "5.0",
                  "It Does The Job Well",
                  "1377648000",
                  "08 28, 2013"
                ],
                [
                  "3",
                  "A2C00NNG1ZQQG2",
                  "1384719342",
                  "RustyBill \"Sunday Rocker\"",
                  "[0, 0]",
                  "Nice windscreen protects my MXL mic and prevents pops. Only thing is that the gooseneck is only marginally able to hold the screen in position and requires careful positioning of the clamp to avoid sagging.",
                  "5.0",
                  "GOOD WINDSCREEN FOR THE MONEY",
                  "1392336000",
                  "02 14, 2014"
                ],
                [
                  "4",
                  "A94QU4C90B1AX",
                  "1384719342",
                  "SEAN MASLANKA",
                  "[0, 0]",
                  "This pop filter is great. It looks and performs like a studio filter. If you're recording vocals this will eliminate the pops that gets recorded when you sing.",
                  "5.0",
                  "No more pops when I record my vocals.",
                  "1392940800",
                  "02 21, 2014"
                ]
              ],
              "shape": {
                "columns": 9,
                "rows": 5
              }
            },
            "text/html": [
              "<div>\n",
              "<style scoped>\n",
              "    .dataframe tbody tr th:only-of-type {\n",
              "        vertical-align: middle;\n",
              "    }\n",
              "\n",
              "    .dataframe tbody tr th {\n",
              "        vertical-align: top;\n",
              "    }\n",
              "\n",
              "    .dataframe thead th {\n",
              "        text-align: right;\n",
              "    }\n",
              "</style>\n",
              "<table border=\"1\" class=\"dataframe\">\n",
              "  <thead>\n",
              "    <tr style=\"text-align: right;\">\n",
              "      <th></th>\n",
              "      <th>reviewerID</th>\n",
              "      <th>asin</th>\n",
              "      <th>reviewerName</th>\n",
              "      <th>helpful</th>\n",
              "      <th>reviewText</th>\n",
              "      <th>overall</th>\n",
              "      <th>summary</th>\n",
              "      <th>unixReviewTime</th>\n",
              "      <th>reviewTime</th>\n",
              "    </tr>\n",
              "  </thead>\n",
              "  <tbody>\n",
              "    <tr>\n",
              "      <th>0</th>\n",
              "      <td>A2IBPI20UZIR0U</td>\n",
              "      <td>1384719342</td>\n",
              "      <td>cassandra tu \"Yeah, well, that's just like, u...</td>\n",
              "      <td>[0, 0]</td>\n",
              "      <td>Not much to write about here, but it does exac...</td>\n",
              "      <td>5.0</td>\n",
              "      <td>good</td>\n",
              "      <td>1393545600</td>\n",
              "      <td>02 28, 2014</td>\n",
              "    </tr>\n",
              "    <tr>\n",
              "      <th>1</th>\n",
              "      <td>A14VAT5EAX3D9S</td>\n",
              "      <td>1384719342</td>\n",
              "      <td>Jake</td>\n",
              "      <td>[13, 14]</td>\n",
              "      <td>The product does exactly as it should and is q...</td>\n",
              "      <td>5.0</td>\n",
              "      <td>Jake</td>\n",
              "      <td>1363392000</td>\n",
              "      <td>03 16, 2013</td>\n",
              "    </tr>\n",
              "    <tr>\n",
              "      <th>2</th>\n",
              "      <td>A195EZSQDW3E21</td>\n",
              "      <td>1384719342</td>\n",
              "      <td>Rick Bennette \"Rick Bennette\"</td>\n",
              "      <td>[1, 1]</td>\n",
              "      <td>The primary job of this device is to block the...</td>\n",
              "      <td>5.0</td>\n",
              "      <td>It Does The Job Well</td>\n",
              "      <td>1377648000</td>\n",
              "      <td>08 28, 2013</td>\n",
              "    </tr>\n",
              "    <tr>\n",
              "      <th>3</th>\n",
              "      <td>A2C00NNG1ZQQG2</td>\n",
              "      <td>1384719342</td>\n",
              "      <td>RustyBill \"Sunday Rocker\"</td>\n",
              "      <td>[0, 0]</td>\n",
              "      <td>Nice windscreen protects my MXL mic and preven...</td>\n",
              "      <td>5.0</td>\n",
              "      <td>GOOD WINDSCREEN FOR THE MONEY</td>\n",
              "      <td>1392336000</td>\n",
              "      <td>02 14, 2014</td>\n",
              "    </tr>\n",
              "    <tr>\n",
              "      <th>4</th>\n",
              "      <td>A94QU4C90B1AX</td>\n",
              "      <td>1384719342</td>\n",
              "      <td>SEAN MASLANKA</td>\n",
              "      <td>[0, 0]</td>\n",
              "      <td>This pop filter is great. It looks and perform...</td>\n",
              "      <td>5.0</td>\n",
              "      <td>No more pops when I record my vocals.</td>\n",
              "      <td>1392940800</td>\n",
              "      <td>02 21, 2014</td>\n",
              "    </tr>\n",
              "  </tbody>\n",
              "</table>\n",
              "</div>"
            ],
            "text/plain": [
              "       reviewerID        asin  \\\n",
              "0  A2IBPI20UZIR0U  1384719342   \n",
              "1  A14VAT5EAX3D9S  1384719342   \n",
              "2  A195EZSQDW3E21  1384719342   \n",
              "3  A2C00NNG1ZQQG2  1384719342   \n",
              "4   A94QU4C90B1AX  1384719342   \n",
              "\n",
              "                                       reviewerName   helpful  \\\n",
              "0  cassandra tu \"Yeah, well, that's just like, u...    [0, 0]   \n",
              "1                                              Jake  [13, 14]   \n",
              "2                     Rick Bennette \"Rick Bennette\"    [1, 1]   \n",
              "3                         RustyBill \"Sunday Rocker\"    [0, 0]   \n",
              "4                                     SEAN MASLANKA    [0, 0]   \n",
              "\n",
              "                                          reviewText  overall  \\\n",
              "0  Not much to write about here, but it does exac...      5.0   \n",
              "1  The product does exactly as it should and is q...      5.0   \n",
              "2  The primary job of this device is to block the...      5.0   \n",
              "3  Nice windscreen protects my MXL mic and preven...      5.0   \n",
              "4  This pop filter is great. It looks and perform...      5.0   \n",
              "\n",
              "                                 summary  unixReviewTime   reviewTime  \n",
              "0                                   good      1393545600  02 28, 2014  \n",
              "1                                   Jake      1363392000  03 16, 2013  \n",
              "2                   It Does The Job Well      1377648000  08 28, 2013  \n",
              "3          GOOD WINDSCREEN FOR THE MONEY      1392336000  02 14, 2014  \n",
              "4  No more pops when I record my vocals.      1392940800  02 21, 2014  "
            ]
          },
          "execution_count": 11,
          "metadata": {},
          "output_type": "execute_result"
        }
      ],
      "source": [
        "dataset.head()"
      ]
    },
    {
      "cell_type": "markdown",
      "metadata": {
        "id": "Y9R9JlB_XlQj"
      },
      "source": [
        "**Shape of The Dataset**"
      ]
    },
    {
      "cell_type": "code",
      "execution_count": 12,
      "metadata": {
        "colab": {
          "base_uri": "https://localhost:8080/"
        },
        "id": "Oqyu2S8-XnMt",
        "outputId": "cac30f1d-f7f8-45b6-8f4f-7c71cfda71bc"
      },
      "outputs": [
        {
          "data": {
            "text/plain": [
              "(10261, 9)"
            ]
          },
          "execution_count": 12,
          "metadata": {},
          "output_type": "execute_result"
        }
      ],
      "source": [
        "dataset.shape"
      ]
    },
    {
      "cell_type": "markdown",
      "metadata": {
        "id": "WtI2Q6ZaX_Me"
      },
      "source": [
        "*From this, we can infer that the dataset consists of 10261 rows and 9 columns.*"
      ]
    },
    {
      "cell_type": "markdown",
      "metadata": {
        "id": "iHDaIkiNq-69"
      },
      "source": [
        "\n",
        "\n",
        "---\n",
        "\n"
      ]
    },
    {
      "cell_type": "markdown",
      "metadata": {
        "id": "dW_gX7TisCPY"
      },
      "source": [
        "# Data Preprocessing"
      ]
    },
    {
      "cell_type": "markdown",
      "metadata": {
        "id": "ADHd-9LLj5Dd"
      },
      "source": [
        "**Checking Null Values**"
      ]
    },
    {
      "cell_type": "code",
      "execution_count": 13,
      "metadata": {
        "colab": {
          "base_uri": "https://localhost:8080/"
        },
        "id": "BM-K5k5Cf4TO",
        "outputId": "d51b9f6e-cfc1-4254-bf6b-4e0424e87119"
      },
      "outputs": [
        {
          "data": {
            "application/vnd.microsoft.datawrangler.viewer.v0+json": {
              "columns": [
                {
                  "name": "index",
                  "rawType": "object",
                  "type": "string"
                },
                {
                  "name": "0",
                  "rawType": "int64",
                  "type": "integer"
                }
              ],
              "ref": "ecb3fd42-8a97-46bf-bfb0-0c963c35a9eb",
              "rows": [
                [
                  "reviewerID",
                  "0"
                ],
                [
                  "asin",
                  "0"
                ],
                [
                  "reviewerName",
                  "27"
                ],
                [
                  "helpful",
                  "0"
                ],
                [
                  "reviewText",
                  "7"
                ],
                [
                  "overall",
                  "0"
                ],
                [
                  "summary",
                  "0"
                ],
                [
                  "unixReviewTime",
                  "0"
                ],
                [
                  "reviewTime",
                  "0"
                ]
              ],
              "shape": {
                "columns": 1,
                "rows": 9
              }
            },
            "text/plain": [
              "reviewerID         0\n",
              "asin               0\n",
              "reviewerName      27\n",
              "helpful            0\n",
              "reviewText         7\n",
              "overall            0\n",
              "summary            0\n",
              "unixReviewTime     0\n",
              "reviewTime         0\n",
              "dtype: int64"
            ]
          },
          "execution_count": 13,
          "metadata": {},
          "output_type": "execute_result"
        }
      ],
      "source": [
        "dataset.isnull().sum()"
      ]
    },
    {
      "cell_type": "markdown",
      "metadata": {
        "id": "rEwy5qHQka8P"
      },
      "source": [
        "*From above, there are two columns in the dataset with null values: `reviewText` and `reviewerName`. While the latter one is not really important, we should focus on the first column. We cannot remove these rows because the ratings and summary given from the customers will have some effects to our model later (although the number of missing rows is small). Because of it, we can fill the empty values with an empty string.*"
      ]
    },
    {
      "cell_type": "markdown",
      "metadata": {
        "id": "Ixbi3n-hrihj"
      },
      "source": [
        "**Filling Missing Values**"
      ]
    },
    {
      "cell_type": "code",
      "execution_count": 14,
      "metadata": {
        "id": "iAPP2bwKf_yZ"
      },
      "outputs": [
        {
          "name": "stderr",
          "output_type": "stream",
          "text": [
            "C:\\Users\\ASUS\\AppData\\Local\\Temp\\ipykernel_18464\\2670805535.py:1: FutureWarning: A value is trying to be set on a copy of a DataFrame or Series through chained assignment using an inplace method.\n",
            "The behavior will change in pandas 3.0. This inplace method will never work because the intermediate object on which we are setting values always behaves as a copy.\n",
            "\n",
            "For example, when doing 'df[col].method(value, inplace=True)', try using 'df.method({col: value}, inplace=True)' or df[col] = df[col].method(value) instead, to perform the operation inplace on the original object.\n",
            "\n",
            "\n",
            "  dataset.reviewText.fillna(value = \"\", inplace = True)\n"
          ]
        }
      ],
      "source": [
        "dataset.reviewText.fillna(value = \"\", inplace = True)"
      ]
    },
    {
      "cell_type": "markdown",
      "metadata": {
        "id": "mGVfh4qKy40f"
      },
      "source": [
        "**Concatenate `reviewText` and `summary` Columns**"
      ]
    },
    {
      "cell_type": "code",
      "execution_count": 15,
      "metadata": {
        "id": "8QmjDCfIzC80"
      },
      "outputs": [],
      "source": [
        "dataset[\"reviews\"] = dataset[\"reviewText\"] + \" \" + dataset[\"summary\"]\n",
        "dataset.drop(columns = [\"reviewText\", \"summary\"], axis = 1, inplace = True)"
      ]
    },
    {
      "cell_type": "markdown",
      "metadata": {
        "id": "nJl_pwi-ZO5y"
      },
      "source": [
        "**Statistic Description of The Dataset**"
      ]
    },
    {
      "cell_type": "markdown",
      "metadata": {
        "id": "YSAHUwnxbP-v"
      },
      "source": [
        "*From the description above, we know that the ratings given from the customers will have the range of [1, 5] as shown above. Also, the average rating given to musical instruments sold is 4.48. We can also see our new column `reviews` is there to concate both `summary` and `reviewText`.*"
      ]
    },
    {
      "cell_type": "markdown",
      "metadata": {
        "id": "o8nymOqpmEk7"
      },
      "source": [
        "**Percentages of Ratings Given from The Customers**"
      ]
    },
    {
      "cell_type": "markdown",
      "metadata": {
        "id": "05fL8PpvqSQ1"
      },
      "source": [
        "*From the chart above, the majority of musical instruments sold on Amazon have perfect ratings of 5.0, meaning the condition of the products are good. If we were to denote that ratings above 3 are `positive`, ratings equal to 3 are `neutral`, and ratings under 3 are `negative`, we know that the number of negative reviews given in the dataset are relatively small. This might affect our model later.*"
      ]
    },
    {
      "cell_type": "markdown",
      "metadata": {
        "id": "7Xn_UP8nz_gT"
      },
      "source": [
        "**Labelling Products Based On Ratings Given**"
      ]
    },
    {
      "cell_type": "markdown",
      "metadata": {
        "id": "1yvC7kTqa-dw"
      },
      "source": [
        "*Our dataset does not have any dependent variable, or in other words we haven't had any prediction target yet. We will categorize each sentiment according to ratings given for each row based on the explanation before: `Positive` Label for products with rating bigger than 3.0, `Neutral` Label for products with rating equal to 3.0, else `Negative` Label.*"
      ]
    },
    {
      "cell_type": "code",
      "execution_count": null,
      "metadata": {
        "id": "0MkzDBoheXu2"
      },
      "outputs": [],
      "source": [
        "def Labelling(Rows):\n",
        "  if(Rows[\"overall\"] > 4.0):\n",
        "    Label = \"Positive\"\n",
        "  elif(Rows[\"overall\"] < 2.0):\n",
        "    Label = \"Negative\"\n",
        "  else:\n",
        "    Label = \"Neutral\"\n",
        "  return Label"
      ]
    },
    {
      "cell_type": "code",
      "execution_count": 19,
      "metadata": {
        "id": "25X3zpdUnDLk"
      },
      "outputs": [],
      "source": [
        "dataset[\"sentiment\"] = dataset.apply(Labelling, axis = 1)"
      ]
    },
    {
      "cell_type": "markdown",
      "metadata": {
        "id": "BepAPzgdIEgn"
      },
      "source": [
        "*In this part we can actually change the labels into numeric values but for the sake of experiments we will do it later. Also, notice that from the graph we can know that most of our data contains positive sentiments, which is true from the exploration before.*"
      ]
    },
    {
      "cell_type": "markdown",
      "metadata": {
        "id": "9D_rE8CxqTMe"
      },
      "source": [
        "\n",
        "\n",
        "---\n",
        "\n"
      ]
    },
    {
      "cell_type": "markdown",
      "metadata": {
        "id": "LelPKb79I1XU"
      },
      "source": [
        "# Text Preprocessing"
      ]
    },
    {
      "cell_type": "markdown",
      "metadata": {
        "id": "3PbE0Z31Z32J"
      },
      "source": [
        "**Text Cleaning**"
      ]
    },
    {
      "cell_type": "code",
      "execution_count": 21,
      "metadata": {
        "id": "ZCR3SRdpJDBh"
      },
      "outputs": [
        {
          "name": "stderr",
          "output_type": "stream",
          "text": [
            "<>:13: SyntaxWarning: invalid escape sequence '\\S'\n",
            "<>:13: SyntaxWarning: invalid escape sequence '\\S'\n",
            "C:\\Users\\ASUS\\AppData\\Local\\Temp\\ipykernel_18464\\2395264711.py:13: SyntaxWarning: invalid escape sequence '\\S'\n",
            "  Text = re.sub('https?://\\S+|www\\.\\S+', '', Text)\n"
          ]
        }
      ],
      "source": [
        "def Text_Cleaning(Text):\n",
        "  # Lowercase the texts\n",
        "  Text = Text.lower()\n",
        "\n",
        "  # Cleaning punctuations in the text\n",
        "  punc = str.maketrans(string.punctuation, ' '*len(string.punctuation))\n",
        "  Text = Text.translate(punc)\n",
        "\n",
        "  # Removing numbers in the text\n",
        "  Text = re.sub(r'\\d+', '', Text)\n",
        "\n",
        "  # Remove possible links\n",
        "  Text = re.sub('https?://\\S+|www\\.\\S+', '', Text)\n",
        "\n",
        "  # Deleting newlines\n",
        "  Text = re.sub('\\n', '', Text)\n",
        "\n",
        "  return Text"
      ]
    },
    {
      "cell_type": "markdown",
      "metadata": {
        "id": "A2zOCerCZ9i8"
      },
      "source": [
        "**Text Processing**"
      ]
    },
    {
      "cell_type": "code",
      "execution_count": 22,
      "metadata": {},
      "outputs": [],
      "source": [
        "# Stopwords\n",
        "Stopwords = set(nltk.corpus.stopwords.words(\"english\")) - set([\"not\"])\n",
        "\n",
        "def Text_Processing(Text):\n",
        "  Processed_Text = list()\n",
        "  Lemmatizer = WordNetLemmatizer()\n",
        "\n",
        "  # Tokens of Words\n",
        "  Tokens = nltk.word_tokenize(Text)\n",
        "\n",
        "  # Removing Stopwords and Lemmatizing Words\n",
        "  # To reduce noises in our dataset, also to keep it simple and still \n",
        "  # powerful, we will only omit the word `not` from the list of stopwords\n",
        "\n",
        "  for word in Tokens:\n",
        "    if word not in Stopwords:\n",
        "      Processed_Text.append(Lemmatizer.lemmatize(word))\n",
        "\n",
        "  return(\" \".join(Processed_Text))"
      ]
    },
    {
      "cell_type": "markdown",
      "metadata": {
        "id": "OOhoaPOVm3av"
      },
      "source": [
        "**Applying The Functions**"
      ]
    },
    {
      "cell_type": "code",
      "execution_count": 23,
      "metadata": {},
      "outputs": [
        {
          "name": "stderr",
          "output_type": "stream",
          "text": [
            "[nltk_data] Downloading package stopwords to\n",
            "[nltk_data]     C:\\Users\\ASUS\\AppData\\Roaming\\nltk_data...\n",
            "[nltk_data]   Unzipping corpora\\stopwords.zip.\n",
            "[nltk_data] Downloading package punkt to\n",
            "[nltk_data]     C:\\Users\\ASUS\\AppData\\Roaming\\nltk_data...\n",
            "[nltk_data]   Unzipping tokenizers\\punkt.zip.\n"
          ]
        },
        {
          "name": "stdout",
          "output_type": "stream",
          "text": [
            "['C:\\\\Users\\\\ASUS/nltk_data', 'c:\\\\Users\\\\ASUS\\\\miniconda3\\\\nltk_data', 'c:\\\\Users\\\\ASUS\\\\miniconda3\\\\share\\\\nltk_data', 'c:\\\\Users\\\\ASUS\\\\miniconda3\\\\lib\\\\nltk_data', 'C:\\\\Users\\\\ASUS\\\\AppData\\\\Roaming\\\\nltk_data', 'C:\\\\nltk_data', 'D:\\\\nltk_data', 'E:\\\\nltk_data']\n"
          ]
        }
      ],
      "source": [
        "import nltk\n",
        "import shutil\n",
        "\n",
        "# Remove corrupted NLTK files if they exist\n",
        "nltk_data_path = \"C:/Users/ASUS/AppData/Roaming/nltk_data\"\n",
        "shutil.rmtree(f\"{nltk_data_path}/corpora/stopwords\", ignore_errors=True)\n",
        "shutil.rmtree(f\"{nltk_data_path}/tokenizers/punkt\", ignore_errors=True)\n",
        "\n",
        "# Re-download the NLTK resources\n",
        "nltk.download(\"stopwords\", force=True)\n",
        "nltk.download(\"punkt\", force=True)\n",
        "\n",
        "# Verify paths\n",
        "print(nltk.data.path)\n"
      ]
    },
    {
      "cell_type": "code",
      "execution_count": 24,
      "metadata": {},
      "outputs": [
        {
          "name": "stderr",
          "output_type": "stream",
          "text": [
            "[nltk_data] Downloading package punkt_tab to\n",
            "[nltk_data]     C:\\Users\\ASUS\\AppData\\Roaming\\nltk_data...\n",
            "[nltk_data]   Package punkt_tab is already up-to-date!\n"
          ]
        },
        {
          "data": {
            "text/plain": [
              "True"
            ]
          },
          "execution_count": 24,
          "metadata": {},
          "output_type": "execute_result"
        }
      ],
      "source": [
        "import nltk \n",
        "nltk.download('punkt_tab')"
      ]
    },
    {
      "cell_type": "code",
      "execution_count": 25,
      "metadata": {
        "id": "Oo_bJqO0aFfi"
      },
      "outputs": [],
      "source": [
        "dataset[\"reviews\"] = dataset[\"reviews\"].apply(lambda Text: Text_Cleaning(Text))\n",
        "dataset[\"reviews\"] = dataset[\"reviews\"].apply(lambda Text: Text_Processing(Text))"
      ]
    },
    {
      "cell_type": "markdown",
      "metadata": {
        "id": "ak5vPTL44q1e"
      },
      "source": [
        "\n",
        "\n",
        "---\n",
        "\n"
      ]
    },
    {
      "cell_type": "markdown",
      "metadata": {
        "id": "JKYYAbZSq3QH"
      },
      "source": [
        "# Exploratory Data Analysis"
      ]
    },
    {
      "cell_type": "markdown",
      "metadata": {
        "id": "nSXc6upbsS7K"
      },
      "source": [
        "**Overview of The Dataset**"
      ]
    },
    {
      "cell_type": "code",
      "execution_count": 26,
      "metadata": {
        "colab": {
          "base_uri": "https://localhost:8080/",
          "height": 511
        },
        "id": "I7nZOJQ8pLCT",
        "outputId": "35963c7c-65f6-4f6b-bf18-506ee50b6b2a"
      },
      "outputs": [
        {
          "data": {
            "application/vnd.microsoft.datawrangler.viewer.v0+json": {
              "columns": [
                {
                  "name": "index",
                  "rawType": "int64",
                  "type": "integer"
                },
                {
                  "name": "reviewerID",
                  "rawType": "object",
                  "type": "string"
                },
                {
                  "name": "asin",
                  "rawType": "object",
                  "type": "string"
                },
                {
                  "name": "reviewerName",
                  "rawType": "object",
                  "type": "string"
                },
                {
                  "name": "helpful",
                  "rawType": "object",
                  "type": "string"
                },
                {
                  "name": "overall",
                  "rawType": "float64",
                  "type": "float"
                },
                {
                  "name": "unixReviewTime",
                  "rawType": "int64",
                  "type": "integer"
                },
                {
                  "name": "reviewTime",
                  "rawType": "object",
                  "type": "string"
                },
                {
                  "name": "reviews",
                  "rawType": "object",
                  "type": "string"
                },
                {
                  "name": "sentiment",
                  "rawType": "object",
                  "type": "string"
                }
              ],
              "ref": "83750083-d293-4d55-86b9-43a1f7ab9319",
              "rows": [
                [
                  "0",
                  "A2IBPI20UZIR0U",
                  "1384719342",
                  "cassandra tu \"Yeah, well, that's just like, u...",
                  "[0, 0]",
                  "5.0",
                  "1393545600",
                  "02 28, 2014",
                  "not much write exactly supposed filter pop sound recording much crisp one lowest price pop filter amazon might well buy honestly work despite pricing good",
                  "Positive"
                ],
                [
                  "1",
                  "A14VAT5EAX3D9S",
                  "1384719342",
                  "Jake",
                  "[13, 14]",
                  "5.0",
                  "1363392000",
                  "03 16, 2013",
                  "product exactly quite affordable not realized double screened arrived even better expected added bonus one screen carry small hint smell old grape candy used buy reminiscent sake not stop putting pop filter next nose smelling recording dif needed pop filter work well expensive one may even come pleasing aroma like mine buy product jake",
                  "Positive"
                ],
                [
                  "2",
                  "A195EZSQDW3E21",
                  "1384719342",
                  "Rick Bennette \"Rick Bennette\"",
                  "[1, 1]",
                  "5.0",
                  "1377648000",
                  "08 28, 2013",
                  "primary job device block breath would otherwise produce popping sound allowing voice pas noticeable reduction volume high frequency double cloth filter block pop let voice coloration metal clamp mount attache mike stand secure enough keep attached goose neck need little coaxing stay put job well",
                  "Positive"
                ],
                [
                  "3",
                  "A2C00NNG1ZQQG2",
                  "1384719342",
                  "RustyBill \"Sunday Rocker\"",
                  "[0, 0]",
                  "5.0",
                  "1392336000",
                  "02 14, 2014",
                  "nice windscreen protects mxl mic prevents pop thing gooseneck marginally able hold screen position requires careful positioning clamp avoid sagging good windscreen money",
                  "Positive"
                ],
                [
                  "4",
                  "A94QU4C90B1AX",
                  "1384719342",
                  "SEAN MASLANKA",
                  "[0, 0]",
                  "5.0",
                  "1392940800",
                  "02 21, 2014",
                  "pop filter great look performs like studio filter recording vocal eliminate pop get recorded sing pop record vocal",
                  "Positive"
                ],
                [
                  "5",
                  "A2A039TZMZHH9Y",
                  "B00004Y2UT",
                  "Bill Lewey \"blewey\"",
                  "[0, 0]",
                  "5.0",
                  "1356048000",
                  "12 21, 2012",
                  "good bought another one love heavy cord gold connector bass sound great learned last night coil guess read instruction carefully harm done still work great best cable",
                  "Positive"
                ],
                [
                  "6",
                  "A1UPZM995ZAH90",
                  "B00004Y2UT",
                  "Brian",
                  "[0, 0]",
                  "5.0",
                  "1390089600",
                  "01 19, 2014",
                  "used monster cable year good reason lifetime warranty worth price alone simple fact cable break getting replace cost monster standard instrument cable",
                  "Positive"
                ],
                [
                  "7",
                  "AJNFQI3YR6XJ5",
                  "B00004Y2UT",
                  "Fender Guy \"Rick\"",
                  "[0, 0]",
                  "3.0",
                  "1353024000",
                  "11 16, 2012",
                  "use cable run output pedal chain input fender amp bought monster cable hook pedal board thought would try another one update guitar using high end planet wave cable bought found input jack new monster cable fit fender strat jack little disappointed return stated use output pedal board save money went back planet wave cable payed back eighty planet wave come around getting get pay thought wave lot money back day bought guitar cable since one plus year still working planet wave win fit fender strat",
                  "Neutral"
                ],
                [
                  "8",
                  "A3M1PLEYNDEYO8",
                  "B00004Y2UT",
                  "G. Thomas \"Tom\"",
                  "[0, 0]",
                  "5.0",
                  "1215302400",
                  "07 6, 2008",
                  "perfect epiphone sheraton ii monster cable well constructed several never problem year got one wanted degree plug great cable",
                  "Positive"
                ],
                [
                  "9",
                  "AMNTZU1YQN1TH",
                  "B00004Y2UT",
                  "Kurt Robair",
                  "[0, 0]",
                  "5.0",
                  "1389139200",
                  "01 8, 2014",
                  "monster make best cable lifetime warranty doesnt hurt either isnt top line series work great bass guitar rig time cant go wrong monster cable best instrument cable market",
                  "Positive"
                ]
              ],
              "shape": {
                "columns": 9,
                "rows": 10
              }
            },
            "text/html": [
              "<div>\n",
              "<style scoped>\n",
              "    .dataframe tbody tr th:only-of-type {\n",
              "        vertical-align: middle;\n",
              "    }\n",
              "\n",
              "    .dataframe tbody tr th {\n",
              "        vertical-align: top;\n",
              "    }\n",
              "\n",
              "    .dataframe thead th {\n",
              "        text-align: right;\n",
              "    }\n",
              "</style>\n",
              "<table border=\"1\" class=\"dataframe\">\n",
              "  <thead>\n",
              "    <tr style=\"text-align: right;\">\n",
              "      <th></th>\n",
              "      <th>reviewerID</th>\n",
              "      <th>asin</th>\n",
              "      <th>reviewerName</th>\n",
              "      <th>helpful</th>\n",
              "      <th>overall</th>\n",
              "      <th>unixReviewTime</th>\n",
              "      <th>reviewTime</th>\n",
              "      <th>reviews</th>\n",
              "      <th>sentiment</th>\n",
              "    </tr>\n",
              "  </thead>\n",
              "  <tbody>\n",
              "    <tr>\n",
              "      <th>0</th>\n",
              "      <td>A2IBPI20UZIR0U</td>\n",
              "      <td>1384719342</td>\n",
              "      <td>cassandra tu \"Yeah, well, that's just like, u...</td>\n",
              "      <td>[0, 0]</td>\n",
              "      <td>5.0</td>\n",
              "      <td>1393545600</td>\n",
              "      <td>02 28, 2014</td>\n",
              "      <td>not much write exactly supposed filter pop sou...</td>\n",
              "      <td>Positive</td>\n",
              "    </tr>\n",
              "    <tr>\n",
              "      <th>1</th>\n",
              "      <td>A14VAT5EAX3D9S</td>\n",
              "      <td>1384719342</td>\n",
              "      <td>Jake</td>\n",
              "      <td>[13, 14]</td>\n",
              "      <td>5.0</td>\n",
              "      <td>1363392000</td>\n",
              "      <td>03 16, 2013</td>\n",
              "      <td>product exactly quite affordable not realized ...</td>\n",
              "      <td>Positive</td>\n",
              "    </tr>\n",
              "    <tr>\n",
              "      <th>2</th>\n",
              "      <td>A195EZSQDW3E21</td>\n",
              "      <td>1384719342</td>\n",
              "      <td>Rick Bennette \"Rick Bennette\"</td>\n",
              "      <td>[1, 1]</td>\n",
              "      <td>5.0</td>\n",
              "      <td>1377648000</td>\n",
              "      <td>08 28, 2013</td>\n",
              "      <td>primary job device block breath would otherwis...</td>\n",
              "      <td>Positive</td>\n",
              "    </tr>\n",
              "    <tr>\n",
              "      <th>3</th>\n",
              "      <td>A2C00NNG1ZQQG2</td>\n",
              "      <td>1384719342</td>\n",
              "      <td>RustyBill \"Sunday Rocker\"</td>\n",
              "      <td>[0, 0]</td>\n",
              "      <td>5.0</td>\n",
              "      <td>1392336000</td>\n",
              "      <td>02 14, 2014</td>\n",
              "      <td>nice windscreen protects mxl mic prevents pop ...</td>\n",
              "      <td>Positive</td>\n",
              "    </tr>\n",
              "    <tr>\n",
              "      <th>4</th>\n",
              "      <td>A94QU4C90B1AX</td>\n",
              "      <td>1384719342</td>\n",
              "      <td>SEAN MASLANKA</td>\n",
              "      <td>[0, 0]</td>\n",
              "      <td>5.0</td>\n",
              "      <td>1392940800</td>\n",
              "      <td>02 21, 2014</td>\n",
              "      <td>pop filter great look performs like studio fil...</td>\n",
              "      <td>Positive</td>\n",
              "    </tr>\n",
              "    <tr>\n",
              "      <th>5</th>\n",
              "      <td>A2A039TZMZHH9Y</td>\n",
              "      <td>B00004Y2UT</td>\n",
              "      <td>Bill Lewey \"blewey\"</td>\n",
              "      <td>[0, 0]</td>\n",
              "      <td>5.0</td>\n",
              "      <td>1356048000</td>\n",
              "      <td>12 21, 2012</td>\n",
              "      <td>good bought another one love heavy cord gold c...</td>\n",
              "      <td>Positive</td>\n",
              "    </tr>\n",
              "    <tr>\n",
              "      <th>6</th>\n",
              "      <td>A1UPZM995ZAH90</td>\n",
              "      <td>B00004Y2UT</td>\n",
              "      <td>Brian</td>\n",
              "      <td>[0, 0]</td>\n",
              "      <td>5.0</td>\n",
              "      <td>1390089600</td>\n",
              "      <td>01 19, 2014</td>\n",
              "      <td>used monster cable year good reason lifetime w...</td>\n",
              "      <td>Positive</td>\n",
              "    </tr>\n",
              "    <tr>\n",
              "      <th>7</th>\n",
              "      <td>AJNFQI3YR6XJ5</td>\n",
              "      <td>B00004Y2UT</td>\n",
              "      <td>Fender Guy \"Rick\"</td>\n",
              "      <td>[0, 0]</td>\n",
              "      <td>3.0</td>\n",
              "      <td>1353024000</td>\n",
              "      <td>11 16, 2012</td>\n",
              "      <td>use cable run output pedal chain input fender ...</td>\n",
              "      <td>Neutral</td>\n",
              "    </tr>\n",
              "    <tr>\n",
              "      <th>8</th>\n",
              "      <td>A3M1PLEYNDEYO8</td>\n",
              "      <td>B00004Y2UT</td>\n",
              "      <td>G. Thomas \"Tom\"</td>\n",
              "      <td>[0, 0]</td>\n",
              "      <td>5.0</td>\n",
              "      <td>1215302400</td>\n",
              "      <td>07 6, 2008</td>\n",
              "      <td>perfect epiphone sheraton ii monster cable wel...</td>\n",
              "      <td>Positive</td>\n",
              "    </tr>\n",
              "    <tr>\n",
              "      <th>9</th>\n",
              "      <td>AMNTZU1YQN1TH</td>\n",
              "      <td>B00004Y2UT</td>\n",
              "      <td>Kurt Robair</td>\n",
              "      <td>[0, 0]</td>\n",
              "      <td>5.0</td>\n",
              "      <td>1389139200</td>\n",
              "      <td>01 8, 2014</td>\n",
              "      <td>monster make best cable lifetime warranty does...</td>\n",
              "      <td>Positive</td>\n",
              "    </tr>\n",
              "  </tbody>\n",
              "</table>\n",
              "</div>"
            ],
            "text/plain": [
              "       reviewerID        asin  \\\n",
              "0  A2IBPI20UZIR0U  1384719342   \n",
              "1  A14VAT5EAX3D9S  1384719342   \n",
              "2  A195EZSQDW3E21  1384719342   \n",
              "3  A2C00NNG1ZQQG2  1384719342   \n",
              "4   A94QU4C90B1AX  1384719342   \n",
              "5  A2A039TZMZHH9Y  B00004Y2UT   \n",
              "6  A1UPZM995ZAH90  B00004Y2UT   \n",
              "7   AJNFQI3YR6XJ5  B00004Y2UT   \n",
              "8  A3M1PLEYNDEYO8  B00004Y2UT   \n",
              "9   AMNTZU1YQN1TH  B00004Y2UT   \n",
              "\n",
              "                                       reviewerName   helpful  overall  \\\n",
              "0  cassandra tu \"Yeah, well, that's just like, u...    [0, 0]      5.0   \n",
              "1                                              Jake  [13, 14]      5.0   \n",
              "2                     Rick Bennette \"Rick Bennette\"    [1, 1]      5.0   \n",
              "3                         RustyBill \"Sunday Rocker\"    [0, 0]      5.0   \n",
              "4                                     SEAN MASLANKA    [0, 0]      5.0   \n",
              "5                               Bill Lewey \"blewey\"    [0, 0]      5.0   \n",
              "6                                             Brian    [0, 0]      5.0   \n",
              "7                                 Fender Guy \"Rick\"    [0, 0]      3.0   \n",
              "8                                   G. Thomas \"Tom\"    [0, 0]      5.0   \n",
              "9                                       Kurt Robair    [0, 0]      5.0   \n",
              "\n",
              "   unixReviewTime   reviewTime  \\\n",
              "0      1393545600  02 28, 2014   \n",
              "1      1363392000  03 16, 2013   \n",
              "2      1377648000  08 28, 2013   \n",
              "3      1392336000  02 14, 2014   \n",
              "4      1392940800  02 21, 2014   \n",
              "5      1356048000  12 21, 2012   \n",
              "6      1390089600  01 19, 2014   \n",
              "7      1353024000  11 16, 2012   \n",
              "8      1215302400   07 6, 2008   \n",
              "9      1389139200   01 8, 2014   \n",
              "\n",
              "                                             reviews sentiment  \n",
              "0  not much write exactly supposed filter pop sou...  Positive  \n",
              "1  product exactly quite affordable not realized ...  Positive  \n",
              "2  primary job device block breath would otherwis...  Positive  \n",
              "3  nice windscreen protects mxl mic prevents pop ...  Positive  \n",
              "4  pop filter great look performs like studio fil...  Positive  \n",
              "5  good bought another one love heavy cord gold c...  Positive  \n",
              "6  used monster cable year good reason lifetime w...  Positive  \n",
              "7  use cable run output pedal chain input fender ...   Neutral  \n",
              "8  perfect epiphone sheraton ii monster cable wel...  Positive  \n",
              "9  monster make best cable lifetime warranty does...  Positive  "
            ]
          },
          "execution_count": 26,
          "metadata": {},
          "output_type": "execute_result"
        }
      ],
      "source": [
        "dataset.head(n = 10)"
      ]
    },
    {
      "cell_type": "markdown",
      "metadata": {
        "id": "Q02aQd2ckA0w"
      },
      "source": [
        "*With the overview above, we know that for sentiment analysis that we will do, `reviews` is important to our model and we should use this aspect as our feature. By using this feature, we will need to predict what our sentiment will be classified into.*"
      ]
    },
    {
      "cell_type": "markdown",
      "metadata": {
        "id": "dFQOTMt7ppRB"
      },
      "source": [
        "**About Other Features**"
      ]
    },
    {
      "cell_type": "markdown",
      "metadata": {
        "id": "qMTeEjusp5LS"
      },
      "source": [
        "*Now, we will go back to statistic description of our dataset. Intuitively, the other features from our dataset does not really have any impact in determining our sentiment later. We might use the `helpful` part in our model, but as we can see from the description above, the top values of it is [0,0], which means that most users do not really take their votes in it. Because of it, we can also decide that we don't really need it in our model.*"
      ]
    },
    {
      "cell_type": "markdown",
      "metadata": {
        "id": "ONhs1ui4vYJb"
      },
      "source": [
        "**Polarity, Review Length, and Word Counts**"
      ]
    },
    {
      "cell_type": "markdown",
      "metadata": {
        "id": "kfXetkDivjgx"
      },
      "source": [
        "*To justify our analysis before, we will dive further into the dataset a bit more from the polarity of the texts, also from the words used in the reviews. We will generate some new columns in our dataset and visualize it.*"
      ]
    },
    {
      "cell_type": "markdown",
      "metadata": {
        "id": "lJL5rJjGvyKb"
      },
      "source": [
        "Polarity"
      ]
    },
    {
      "cell_type": "code",
      "execution_count": 28,
      "metadata": {
        "id": "RaKnF0Z-vvGZ"
      },
      "outputs": [],
      "source": [
        "dataset[\"polarity\"] = dataset[\"reviews\"].map(lambda Text: TextBlob(Text).sentiment.polarity)"
      ]
    },
    {
      "cell_type": "markdown",
      "metadata": {
        "id": "mpgsWK4n1lw2"
      },
      "source": [
        "Review Length"
      ]
    },
    {
      "cell_type": "code",
      "execution_count": 30,
      "metadata": {
        "id": "ujgPvpuo1te5"
      },
      "outputs": [],
      "source": [
        "dataset[\"length\"] = dataset[\"reviews\"].astype(str).apply(len)"
      ]
    },
    {
      "cell_type": "markdown",
      "metadata": {
        "id": "sGrlF5kP2YSw"
      },
      "source": [
        "*Based on this, we know that our review has text length between approximately 0-1000 characters. The distribution itself has positive skewness, or in other words it is skewed right, and this means that our reviews rarely has larger length than 1000 characters. Of course, the review that we use here is affected by the text preprocessing phase, so the length might not be the actual value of the review itself as some words might have been omitted already. This will also have the same effect when we count the tatal of words in our reviews.*"
      ]
    },
    {
      "cell_type": "markdown",
      "metadata": {
        "id": "rui0r-S_4Z5C"
      },
      "source": [
        "Word Counts"
      ]
    },
    {
      "cell_type": "code",
      "execution_count": 32,
      "metadata": {
        "id": "bONPL7pv4cv4"
      },
      "outputs": [],
      "source": [
        "dataset[\"word_counts\"] = dataset[\"reviews\"].apply(lambda x: len(str(x).split()))"
      ]
    },
    {
      "cell_type": "markdown",
      "metadata": {
        "id": "lkDp7CMl5Yn-"
      },
      "source": [
        "*From the figure above, we infer that most of the reviews consist of 0-200 words. Just like before, the distribution is skewed right and the calculation is affected by our text preprocessing phase before.*"
      ]
    },
    {
      "cell_type": "markdown",
      "metadata": {
        "id": "bwx3kkU0qNY8"
      },
      "source": [
        "\n",
        "\n",
        "---\n",
        "\n"
      ]
    },
    {
      "cell_type": "markdown",
      "metadata": {},
      "source": [
        "**Filter The DataFrame Based On Sentiments**"
      ]
    },
    {
      "cell_type": "code",
      "execution_count": 34,
      "metadata": {},
      "outputs": [],
      "source": [
        "# Use dropna() so the base DataFrame is not affected\n",
        "Positive = dataset[dataset[\"sentiment\"] == \"Positive\"].dropna()\n",
        "Neutral = dataset[dataset[\"sentiment\"] == \"Neutral\"].dropna()\n",
        "Negative = dataset[dataset[\"sentiment\"] == \"Negative\"].dropna()"
      ]
    },
    {
      "cell_type": "code",
      "execution_count": 35,
      "metadata": {},
      "outputs": [],
      "source": [
        "from nltk.corpus import stopwords\n",
        "\n",
        "# Ensure stopwords is a list\n",
        "Stopwords = list(stopwords.words('english'))\n"
      ]
    },
    {
      "cell_type": "code",
      "execution_count": 36,
      "metadata": {},
      "outputs": [],
      "source": [
        "# Extract reviews as a list\n",
        "Corpus = Positive[\"reviews\"].tolist()"
      ]
    },
    {
      "cell_type": "code",
      "execution_count": 37,
      "metadata": {},
      "outputs": [],
      "source": [
        "# Ensure stopwords is a list\n",
        "Stopwords = list(stopwords.words('english'))"
      ]
    },
    {
      "cell_type": "markdown",
      "metadata": {
        "id": "IIDduMBZyIJo"
      },
      "source": [
        "# N-Gram Analysis"
      ]
    },
    {
      "cell_type": "markdown",
      "metadata": {
        "id": "vUYkC5Aw7Slr"
      },
      "source": [
        "**N-Gram Function**"
      ]
    },
    {
      "cell_type": "code",
      "execution_count": 38,
      "metadata": {
        "id": "7D_yEr1S7R9-"
      },
      "outputs": [],
      "source": [
        "# def Gram_Analysis(Corpus, Gram, N):\n",
        "#   # Vectorizer\n",
        "#   Vectorizer = CountVectorizer(stop_words = Stopwords, ngram_range=(Gram,Gram))\n",
        "\n",
        "#   # N-Grams Matrix\n",
        "#   ngrams = Vectorizer.fit_transform(Corpus)\n",
        "\n",
        "#   # N-Grams Frequency\n",
        "#   Count = ngrams.sum(axis=0)\n",
        "\n",
        "#   # List of Words\n",
        "#   words = [(word, Count[0, idx]) for word, idx in Vectorizer.vocabulary_.items()]\n",
        "\n",
        "#   # Sort Descending With Key = Count\n",
        "#   words = sorted(words, key = lambda x:x[1], reverse = True)\n",
        "\n",
        "#   return words[:N]\n",
        "\n",
        "\n",
        "\n",
        "# Function to Analyze N-Grams\n",
        "def Gram_Analysis(Corpus, Gram, N):\n",
        "    # Vectorizer\n",
        "    Vectorizer = CountVectorizer(stop_words=Stopwords, ngram_range=(Gram, Gram))\n",
        "\n",
        "    # N-Grams Matrix\n",
        "    ngrams = Vectorizer.fit_transform(Corpus)\n",
        "\n",
        "    # N-Grams Frequency\n",
        "    Count = ngrams.sum(axis=0)\n",
        "\n",
        "    # List of Words\n",
        "    words = [(word, Count[0, idx]) for word, idx in Vectorizer.vocabulary_.items()]\n",
        "\n",
        "    # Sort Descending With Key = Count\n",
        "    words = sorted(words, key=lambda x: x[1], reverse=True)\n",
        "\n",
        "    return words[:N]"
      ]
    },
    {
      "cell_type": "markdown",
      "metadata": {
        "id": "Pb1d0XLWj6-S"
      },
      "source": [
        "**Unigram of Reviews Based on Sentiments**"
      ]
    },
    {
      "cell_type": "code",
      "execution_count": 39,
      "metadata": {
        "colab": {
          "base_uri": "https://localhost:8080/",
          "height": 382
        },
        "id": "U1Bq2hKy_kxd",
        "outputId": "a549c8cd-00e6-49e0-d9d1-421dbdc9d6d1"
      },
      "outputs": [
        {
          "data": {
            "image/png": "[encoded data removed]",
            "text/plain": [
              "<Figure size 1000x500 with 1 Axes>"
            ]
          },
          "metadata": {},
          "output_type": "display_data"
        }
      ],
      "source": [
        "# Finding Unigram\n",
        "# words = Gram_Analysis(Positive[\"reviews\"], 1, 20)\n",
        "# Unigram = pd.DataFrame(words, columns = [\"Words\", \"Counts\"])\n",
        "\n",
        "# # Visualization\n",
        "# Unigram.groupby(\"Words\").sum()[\"Counts\"].sort_values().plot(kind = \"barh\", color = \"green\", figsize = (10, 5))\n",
        "# plt.title(\"Unigram of Reviews with Positive Sentiments\", loc = \"center\", fontsize = 15, color = \"blue\", pad = 25)\n",
        "# plt.xlabel(\"Total Counts\", color = \"magenta\", fontsize = 10, labelpad = 15)\n",
        "# plt.xticks(rotation = 0)\n",
        "# plt.ylabel(\"Top Words\", color = \"cyan\", fontsize = 10, labelpad = 15)\n",
        "# plt.show()\n",
        "\n",
        "\n",
        "\n",
        "words = Gram_Analysis(Corpus, 1, 20)\n",
        "Unigram = pd.DataFrame(words, columns=[\"Words\", \"Counts\"])\n",
        "\n",
        "# Visualization\n",
        "Unigram.groupby(\"Words\").sum()[\"Counts\"].sort_values().plot(\n",
        "    kind=\"barh\", color=\"green\", figsize=(10, 5)\n",
        ")\n",
        "\n",
        "# Adding Titles and Labels\n",
        "plt.title(\"Unigram of Reviews with Positive Sentiments\", loc=\"center\", fontsize=15, color=\"blue\", pad=25)\n",
        "plt.xlabel(\"Total Counts\", color=\"magenta\", fontsize=10, labelpad=15)\n",
        "plt.xticks(rotation=0)\n",
        "plt.ylabel(\"Top Words\", color=\"cyan\", fontsize=10, labelpad=15)\n",
        "\n",
        "# Show Plot\n",
        "plt.show()"
      ]
    },
    {
      "cell_type": "code",
      "execution_count": 40,
      "metadata": {
        "colab": {
          "base_uri": "https://localhost:8080/",
          "height": 382
        },
        "id": "XpJ_sLxgmxU-",
        "outputId": "6a49b311-a473-4081-82c4-b66c8deb9708"
      },
      "outputs": [
        {
          "data": {
            "image/png": "[encoded data removed]",
            "text/plain": [
              "<Figure size 1000x500 with 1 Axes>"
            ]
          },
          "metadata": {},
          "output_type": "display_data"
        }
      ],
      "source": [
        "# Finding Unigram\n",
        "words = Gram_Analysis(Neutral[\"reviews\"], 1, 20)\n",
        "Unigram = pd.DataFrame(words, columns = [\"Words\", \"Counts\"])\n",
        "\n",
        "# Visualization\n",
        "Unigram.groupby(\"Words\").sum()[\"Counts\"].sort_values().plot(kind = \"barh\", color = \"orange\", figsize = (10, 5))\n",
        "plt.title(\"Unigram of Reviews with Neutral Sentiments\", loc = \"center\", fontsize = 15, color = \"blue\", pad = 25)\n",
        "plt.xlabel(\"Total Counts\", color = \"magenta\", fontsize = 10, labelpad = 15)\n",
        "plt.xticks(rotation = 0)\n",
        "plt.ylabel(\"Top Words\", color = \"cyan\", fontsize = 10, labelpad = 15)\n",
        "plt.show()"
      ]
    },
    {
      "cell_type": "code",
      "execution_count": 41,
      "metadata": {
        "colab": {
          "base_uri": "https://localhost:8080/",
          "height": 382
        },
        "id": "In6iKNqEjjlh",
        "outputId": "121eb149-c8e4-4dd3-c8c7-d78d894bfd43"
      },
      "outputs": [
        {
          "data": {
            "image/png": "[encoded data removed]",
            "text/plain": [
              "<Figure size 1000x500 with 1 Axes>"
            ]
          },
          "metadata": {},
          "output_type": "display_data"
        }
      ],
      "source": [
        "# Finding Unigram\n",
        "words = Gram_Analysis(Negative[\"reviews\"], 1, 20)\n",
        "Unigram = pd.DataFrame(words, columns = [\"Words\", \"Counts\"])\n",
        "\n",
        "# Visualization\n",
        "Unigram.groupby(\"Words\").sum()[\"Counts\"].sort_values().plot(kind = \"barh\", color = \"red\", figsize = (10, 5))\n",
        "plt.title(\"Unigram of Reviews with Negative Sentiments\", loc = \"center\", fontsize = 15, color = \"blue\", pad = 25)\n",
        "plt.xlabel(\"Total Counts\", color = \"magenta\", fontsize = 10, labelpad = 15)\n",
        "plt.xticks(rotation = 0)\n",
        "plt.ylabel(\"Top Words\", color = \"cyan\", fontsize = 10, labelpad = 15)\n",
        "plt.show()"
      ]
    },
    {
      "cell_type": "markdown",
      "metadata": {
        "id": "z_4SD31UoPxX"
      },
      "source": [
        "*These unigrams are not really accurate, because we can clearly see that even for postive sentiments, the top unigram is the wird `guitar` which is an object, though from here we might know that the most frequently bought items are guitars or the complement of it. We should try to find the bigram and see how accurate it can describe each sentiments*"
      ]
    },
    {
      "cell_type": "markdown",
      "metadata": {
        "id": "rSnI3JVPpAKM"
      },
      "source": [
        "**Bigram of Reviews Based On Sentiments**"
      ]
    },
    {
      "cell_type": "code",
      "execution_count": 42,
      "metadata": {
        "colab": {
          "base_uri": "https://localhost:8080/",
          "height": 382
        },
        "id": "2oIHS9y7pJf8",
        "outputId": "2cfcbb72-7f1e-4730-911d-2104d05430c9"
      },
      "outputs": [
        {
          "data": {
            "image/png": "[encoded data removed]",
            "text/plain": [
              "<Figure size 1000x500 with 1 Axes>"
            ]
          },
          "metadata": {},
          "output_type": "display_data"
        }
      ],
      "source": [
        "# Finding Bigram\n",
        "words = Gram_Analysis(Positive[\"reviews\"], 2, 20)\n",
        "Bigram = pd.DataFrame(words, columns = [\"Words\", \"Counts\"])\n",
        "\n",
        "# Visualization\n",
        "Bigram.groupby(\"Words\").sum()[\"Counts\"].sort_values().plot(kind = \"barh\", color = \"green\", figsize = (10, 5))\n",
        "plt.title(\"Bigram of Reviews with Positive Sentiments\", loc = \"center\", fontsize = 15, color = \"blue\", pad = 25)\n",
        "plt.xlabel(\"Total Counts\", color = \"magenta\", fontsize = 10, labelpad = 15)\n",
        "plt.xticks(rotation = 0)\n",
        "plt.ylabel(\"Top Words\", color = \"cyan\", fontsize = 10, labelpad = 15)\n",
        "plt.show()\n",
        "     "
      ]
    },
    {
      "cell_type": "code",
      "execution_count": 43,
      "metadata": {
        "colab": {
          "base_uri": "https://localhost:8080/",
          "height": 382
        },
        "id": "nnhMg2rkpNpB",
        "outputId": "4791ae5f-ff0d-42dc-dab8-01379dc5faa0"
      },
      "outputs": [
        {
          "data": {
            "image/png": "[encoded data removed]",
            "text/plain": [
              "<Figure size 1000x500 with 1 Axes>"
            ]
          },
          "metadata": {},
          "output_type": "display_data"
        }
      ],
      "source": [
        "# Finding Bigram\n",
        "words = Gram_Analysis(Neutral[\"reviews\"], 2, 20)\n",
        "Bigram = pd.DataFrame(words, columns = [\"Words\", \"Counts\"])\n",
        "\n",
        "# Visualization\n",
        "Bigram.groupby(\"Words\").sum()[\"Counts\"].sort_values().plot(kind = \"barh\", color = \"orange\", figsize = (10, 5))\n",
        "plt.title(\"Bigram of Reviews with Neutral Sentiments\", loc = \"center\", fontsize = 15, color = \"blue\", pad = 25)\n",
        "plt.xlabel(\"Total Counts\", color = \"magenta\", fontsize = 10, labelpad = 15)\n",
        "plt.xticks(rotation = 0)\n",
        "plt.ylabel(\"Top Words\", color = \"cyan\", fontsize = 10, labelpad = 15)\n",
        "plt.show()"
      ]
    },
    {
      "cell_type": "code",
      "execution_count": null,
      "metadata": {
        "colab": {
          "base_uri": "https://localhost:8080/",
          "height": 382
        },
        "id": "B35-wFxKpevY",
        "outputId": "d76fc7c8-4c47-4add-d251-87c3f712c3e8"
      },
      "outputs": [
        {
          "data": {
            "image/png": "[encoded data removed]",
            "text/plain": [
              "<Figure size 1000x500 with 1 Axes>"
            ]
          },
          "metadata": {},
          "output_type": "display_data"
        }
      ],
      "source": [
        "# # Finding Bigram\n",
        "# words = Gram_Analysis(Negative[\"reviews\"], 2, 20)\n",
        "# Bigram = pd.DataFrame(words, columns = [\"Words\", \"Counts\"])\n",
        "\n",
        "# # Visualization\n",
        "# Bigram.groupby(\"Words\").sum()[\"Counts\"].sort_values().plot(kind = \"barh\", color = \"red\", figsize = (10, 5))\n",
        "# plt.title(\"Bigram of Reviews with Negative Sentiments\", loc = \"center\", fontsize = 15, color = \"blue\", pad = 25)\n",
        "# plt.xlabel(\"Total Counts\", color = \"magenta\", fontsize = 10, labelpad = 15)\n",
        "# plt.xticks(rotation = 0)\n",
        "# plt.ylabel(\"Top Words\", color = \"cyan\", fontsize = 10, labelpad = 15)\n",
        "# plt.show()"
      ]
    },
    {
      "cell_type": "markdown",
      "metadata": {
        "id": "vjmo58yEragB"
      },
      "source": [
        "*The bigrams work better than the unigrams, because we can actually see some phrases that really describe what a good sentiment is. Although, in some parts we can still see guitar objects as the top words, which make us believe that our interpretation about the most selling items are related to guitars.*"
      ]
    },
    {
      "cell_type": "markdown",
      "metadata": {
        "id": "up8j4O_UtMZd"
      },
      "source": [
        "**Trigram of Reviews Based On Sentiments**"
      ]
    },
    {
      "cell_type": "code",
      "execution_count": null,
      "metadata": {
        "colab": {
          "base_uri": "https://localhost:8080/",
          "height": 382
        },
        "id": "KBi4o3VKtN4K",
        "outputId": "6e93432a-57d8-45f5-d472-62f1e89b949c"
      },
      "outputs": [
        {
          "data": {
            "image/png": "[encoded data removed]",
            "text/plain": [
              "<Figure size 1000x500 with 1 Axes>"
            ]
          },
          "metadata": {},
          "output_type": "display_data"
        }
      ],
      "source": [
        "# # Finding Trigram\n",
        "# words = Gram_Analysis(Positive[\"reviews\"], 3, 20)\n",
        "# Trigram = pd.DataFrame(words, columns = [\"Words\", \"Counts\"])\n",
        "\n",
        "# # Visualization\n",
        "# Trigram.groupby(\"Words\").sum()[\"Counts\"].sort_values().plot(kind = \"barh\", color = \"green\", figsize = (10, 5))\n",
        "# plt.title(\"Trigram of Reviews with Positive Sentiments\", loc = \"center\", fontsize = 15, color = \"blue\", pad = 25)\n",
        "# plt.xlabel(\"Total Counts\", color = \"magenta\", fontsize = 10, labelpad = 15)\n",
        "# plt.xticks(rotation = 0)\n",
        "# plt.ylabel(\"Top Words\", color = \"cyan\", fontsize = 10, labelpad = 15)\n",
        "# plt.show()"
      ]
    },
    {
      "cell_type": "code",
      "execution_count": 46,
      "metadata": {
        "colab": {
          "base_uri": "https://localhost:8080/",
          "height": 382
        },
        "id": "wSKNXcentoTl",
        "outputId": "aa1dc9f6-2016-4906-d45b-036851889961"
      },
      "outputs": [],
      "source": [
        "# # Finding Trigram\n",
        "# words = Gram_Analysis(Neutral[\"reviews\"], 3, 20)\n",
        "# Trigram = pd.DataFrame(words, columns = [\"Words\", \"Counts\"])\n",
        "\n",
        "# # Visualization\n",
        "# Trigram.groupby(\"Words\").sum()[\"Counts\"].sort_values().plot(kind = \"barh\", color = \"orange\", figsize = (10, 5))\n",
        "# plt.title(\"Trigram of Reviews with Neutral Sentiments\", loc = \"center\", fontsize = 15, color = \"blue\", pad = 25)\n",
        "# plt.xlabel(\"Total Counts\", color = \"magenta\", fontsize = 10, labelpad = 15)\n",
        "# plt.xticks(rotation = 0)\n",
        "# plt.ylabel(\"Top Words\", color = \"cyan\", fontsize = 10, labelpad = 15)\n",
        "# plt.show()"
      ]
    },
    {
      "cell_type": "code",
      "execution_count": 47,
      "metadata": {
        "colab": {
          "base_uri": "https://localhost:8080/",
          "height": 382
        },
        "id": "VU126AKCt36p",
        "outputId": "2548b3a1-b5ff-4900-fd64-6379ddbbd006"
      },
      "outputs": [],
      "source": [
        "# # Finding Trigram\n",
        "# words = Gram_Analysis(Negative[\"reviews\"], 3, 20)\n",
        "# Trigram = pd.DataFrame(words, columns = [\"Words\", \"Counts\"])\n",
        "\n",
        "# # Visualization\n",
        "# Trigram.groupby(\"Words\").sum()[\"Counts\"].sort_values().plot(kind = \"barh\", color = \"red\", figsize = (10, 5))\n",
        "# plt.title(\"Trigram of Reviews with Negative Sentiments\", loc = \"center\", fontsize = 15, color = \"blue\", pad = 25)\n",
        "# plt.xlabel(\"Total Counts\", color = \"magenta\", fontsize = 10, labelpad = 15)\n",
        "# plt.xticks(rotation = 0)\n",
        "# plt.ylabel(\"Top Words\", color = \"cyan\", fontsize = 10, labelpad = 15)\n",
        "# plt.show()"
      ]
    },
    {
      "cell_type": "markdown",
      "metadata": {
        "id": "6paA10twuK9q"
      },
      "source": [
        "*We can say that the trigrams are slightly better to describe each sentiments, although negative trigrams say a lot about bad products which we can infer from the top words above. From the N-Gram Analysis, we can also see how the decision of not removing `not` in our list of stopwords affects our data as we keep the meaning of negation phrases.*"
      ]
    },
    {
      "cell_type": "markdown",
      "metadata": {
        "id": "7VKfgfFV4wWc"
      },
      "source": [
        "\n",
        "\n",
        "---\n",
        "\n"
      ]
    },
    {
      "cell_type": "markdown",
      "metadata": {
        "id": "Rj01PMJZzL7P"
      },
      "source": [
        "# Word Clouds"
      ]
    },
    {
      "cell_type": "markdown",
      "metadata": {
        "id": "2NZnM8c6zi-a"
      },
      "source": [
        "**Word Cloud of Reviews with Positive Sentiments**"
      ]
    },
    {
      "cell_type": "code",
      "execution_count": 48,
      "metadata": {
        "colab": {
          "base_uri": "https://localhost:8080/",
          "height": 449
        },
        "id": "AEHji5Y20hrt",
        "outputId": "ef14bb92-87c8-42b3-a531-0da334695f9a"
      },
      "outputs": [],
      "source": [
        "# wordCloud = WordCloud(max_words = 50, width = 3000, height = 1500, stopwords = Stopwords).generate(str(Positive[\"reviews\"]))\n",
        "# plt.figure(figsize = (15, 15))\n",
        "# plt.imshow(wordCloud, interpolation = \"bilinear\")\n",
        "# plt.axis(\"off\")\n",
        "# plt.show()"
      ]
    },
    {
      "cell_type": "markdown",
      "metadata": {
        "id": "-dAiVeMT34kn"
      },
      "source": [
        "**Word Cloud of Reviews with Neutral Sentiments**"
      ]
    },
    {
      "cell_type": "code",
      "execution_count": 49,
      "metadata": {
        "colab": {
          "base_uri": "https://localhost:8080/",
          "height": 449
        },
        "id": "4GDTtnAh4ALi",
        "outputId": "76443ae0-0d47-47d2-f0ab-565d20b1dc32"
      },
      "outputs": [],
      "source": [
        "# wordCloud = WordCloud(max_words = 50, width = 3000, height = 1500, stopwords = Stopwords).generate(str(Neutral[\"reviews\"]))\n",
        "# plt.figure(figsize = (15, 15))\n",
        "# plt.imshow(wordCloud, interpolation = \"bilinear\")\n",
        "# plt.axis(\"off\")\n",
        "# plt.show()"
      ]
    },
    {
      "cell_type": "markdown",
      "metadata": {
        "id": "IVp22Sco4EvW"
      },
      "source": [
        "**Word Cloud of Reviews with Negative Sentiments**"
      ]
    },
    {
      "cell_type": "code",
      "execution_count": 50,
      "metadata": {
        "colab": {
          "base_uri": "https://localhost:8080/",
          "height": 449
        },
        "id": "nAToVGfB4EIf",
        "outputId": "d17d056d-3459-4029-a7bb-008bddcdb2a3"
      },
      "outputs": [],
      "source": [
        "# wordCloud = WordCloud(max_words = 50, width = 3000, height = 1500, stopwords = Stopwords).generate(str(Negative[\"reviews\"]))\n",
        "# plt.figure(figsize = (15, 15))\n",
        "# plt.imshow(wordCloud, interpolation = \"bilinear\")\n",
        "# plt.axis(\"off\")\n",
        "# plt.show()"
      ]
    },
    {
      "cell_type": "markdown",
      "metadata": {
        "id": "4HI_mP3V4K4_"
      },
      "source": [
        "*From these word clouds, not only we can see words that really describe our sentiments, but just like our N-Grams Analysis we can see objects being discussed in the reviews given.*"
      ]
    },
    {
      "cell_type": "markdown",
      "metadata": {
        "id": "Anj8JI4W4yGk"
      },
      "source": [
        "\n",
        "\n",
        "---\n",
        "\n"
      ]
    },
    {
      "cell_type": "markdown",
      "metadata": {
        "id": "2IGnAVPCzHn4"
      },
      "source": [
        "# Feature Engineering"
      ]
    },
    {
      "cell_type": "markdown",
      "metadata": {
        "id": "SFxgcUyXvdNy"
      },
      "source": [
        "**Drop Insignificant Columns**"
      ]
    },
    {
      "cell_type": "code",
      "execution_count": 51,
      "metadata": {
        "id": "lBRuOTa5rqnH"
      },
      "outputs": [],
      "source": [
        "Columns = [\"reviewerID\", \"asin\", \"reviewerName\", \"helpful\", \"unixReviewTime\", \"reviewTime\", \"polarity\", \"length\", \"word_counts\", \"overall\"]\n",
        "dataset.drop(columns = Columns, axis = 1, inplace = True)"
      ]
    },
    {
      "cell_type": "markdown",
      "metadata": {
        "id": "uodzSU3npOnx"
      },
      "source": [
        "*We dropped these columns to make our dataset concise. We now have two columns as our independent variables and the last column as dependent variables. To continue, we must encode our label as a set of numbers corresponding to each categories of it.*"
      ]
    },
    {
      "cell_type": "markdown",
      "metadata": {
        "id": "-ZMN_krlO9V8"
      },
      "source": [
        "**Current State of The Dataset**"
      ]
    },
    {
      "cell_type": "code",
      "execution_count": 52,
      "metadata": {
        "colab": {
          "base_uri": "https://localhost:8080/",
          "height": 195
        },
        "id": "qef_ONDPO8EA",
        "outputId": "5d2fde46-2f9a-4f63-98a8-2ee115907931"
      },
      "outputs": [
        {
          "data": {
            "application/vnd.microsoft.datawrangler.viewer.v0+json": {
              "columns": [
                {
                  "name": "index",
                  "rawType": "int64",
                  "type": "integer"
                },
                {
                  "name": "reviews",
                  "rawType": "object",
                  "type": "string"
                },
                {
                  "name": "sentiment",
                  "rawType": "object",
                  "type": "string"
                }
              ],
              "ref": "877f504f-aa44-41f3-b173-653afdcabaea",
              "rows": [
                [
                  "0",
                  "not much write exactly supposed filter pop sound recording much crisp one lowest price pop filter amazon might well buy honestly work despite pricing good",
                  "Positive"
                ],
                [
                  "1",
                  "product exactly quite affordable not realized double screened arrived even better expected added bonus one screen carry small hint smell old grape candy used buy reminiscent sake not stop putting pop filter next nose smelling recording dif needed pop filter work well expensive one may even come pleasing aroma like mine buy product jake",
                  "Positive"
                ],
                [
                  "2",
                  "primary job device block breath would otherwise produce popping sound allowing voice pas noticeable reduction volume high frequency double cloth filter block pop let voice coloration metal clamp mount attache mike stand secure enough keep attached goose neck need little coaxing stay put job well",
                  "Positive"
                ],
                [
                  "3",
                  "nice windscreen protects mxl mic prevents pop thing gooseneck marginally able hold screen position requires careful positioning clamp avoid sagging good windscreen money",
                  "Positive"
                ],
                [
                  "4",
                  "pop filter great look performs like studio filter recording vocal eliminate pop get recorded sing pop record vocal",
                  "Positive"
                ]
              ],
              "shape": {
                "columns": 2,
                "rows": 5
              }
            },
            "text/html": [
              "<div>\n",
              "<style scoped>\n",
              "    .dataframe tbody tr th:only-of-type {\n",
              "        vertical-align: middle;\n",
              "    }\n",
              "\n",
              "    .dataframe tbody tr th {\n",
              "        vertical-align: top;\n",
              "    }\n",
              "\n",
              "    .dataframe thead th {\n",
              "        text-align: right;\n",
              "    }\n",
              "</style>\n",
              "<table border=\"1\" class=\"dataframe\">\n",
              "  <thead>\n",
              "    <tr style=\"text-align: right;\">\n",
              "      <th></th>\n",
              "      <th>reviews</th>\n",
              "      <th>sentiment</th>\n",
              "    </tr>\n",
              "  </thead>\n",
              "  <tbody>\n",
              "    <tr>\n",
              "      <th>0</th>\n",
              "      <td>not much write exactly supposed filter pop sound recording much crisp one lowest price pop filter amazon might well buy honestly work despite pricing good</td>\n",
              "      <td>Positive</td>\n",
              "    </tr>\n",
              "    <tr>\n",
              "      <th>1</th>\n",
              "      <td>product exactly quite affordable not realized double screened arrived even better expected added bonus one screen carry small hint smell old grape candy used buy reminiscent sake not stop putting pop filter next nose smelling recording dif needed pop filter work well expensive one may even come pleasing aroma like mine buy product jake</td>\n",
              "      <td>Positive</td>\n",
              "    </tr>\n",
              "    <tr>\n",
              "      <th>2</th>\n",
              "      <td>primary job device block breath would otherwise produce popping sound allowing voice pas noticeable reduction volume high frequency double cloth filter block pop let voice coloration metal clamp mount attache mike stand secure enough keep attached goose neck need little coaxing stay put job well</td>\n",
              "      <td>Positive</td>\n",
              "    </tr>\n",
              "    <tr>\n",
              "      <th>3</th>\n",
              "      <td>nice windscreen protects mxl mic prevents pop thing gooseneck marginally able hold screen position requires careful positioning clamp avoid sagging good windscreen money</td>\n",
              "      <td>Positive</td>\n",
              "    </tr>\n",
              "    <tr>\n",
              "      <th>4</th>\n",
              "      <td>pop filter great look performs like studio filter recording vocal eliminate pop get recorded sing pop record vocal</td>\n",
              "      <td>Positive</td>\n",
              "    </tr>\n",
              "  </tbody>\n",
              "</table>\n",
              "</div>"
            ],
            "text/plain": [
              "                                                                                                                                                                                                                                                                                                                                             reviews  \\\n",
              "0                                                                                                                                                                                         not much write exactly supposed filter pop sound recording much crisp one lowest price pop filter amazon might well buy honestly work despite pricing good   \n",
              "1  product exactly quite affordable not realized double screened arrived even better expected added bonus one screen carry small hint smell old grape candy used buy reminiscent sake not stop putting pop filter next nose smelling recording dif needed pop filter work well expensive one may even come pleasing aroma like mine buy product jake   \n",
              "2                                           primary job device block breath would otherwise produce popping sound allowing voice pas noticeable reduction volume high frequency double cloth filter block pop let voice coloration metal clamp mount attache mike stand secure enough keep attached goose neck need little coaxing stay put job well   \n",
              "3                                                                                                                                                                          nice windscreen protects mxl mic prevents pop thing gooseneck marginally able hold screen position requires careful positioning clamp avoid sagging good windscreen money   \n",
              "4                                                                                                                                                                                                                                 pop filter great look performs like studio filter recording vocal eliminate pop get recorded sing pop record vocal   \n",
              "\n",
              "  sentiment  \n",
              "0  Positive  \n",
              "1  Positive  \n",
              "2  Positive  \n",
              "3  Positive  \n",
              "4  Positive  "
            ]
          },
          "execution_count": 52,
          "metadata": {},
          "output_type": "execute_result"
        }
      ],
      "source": [
        "pd.set_option('display.max_colwidth', None) \n",
        "dataset.head()"
      ]
    },
    {
      "cell_type": "markdown",
      "metadata": {
        "id": "BxSGQHFBSRyB"
      },
      "source": [
        "**Encoding Our Target Variable**"
      ]
    },
    {
      "cell_type": "code",
      "execution_count": 53,
      "metadata": {
        "id": "7WtLy2ndSXnh"
      },
      "outputs": [],
      "source": [
        "Encoder = LabelEncoder()\n",
        "dataset[\"sentiment\"] = Encoder.fit_transform(dataset[\"sentiment\"])"
      ]
    },
    {
      "cell_type": "code",
      "execution_count": 54,
      "metadata": {
        "colab": {
          "base_uri": "https://localhost:8080/"
        },
        "id": "nNEi0k9YS2Rs",
        "outputId": "fb8ad1cf-9249-4274-c6ba-352859e4624e"
      },
      "outputs": [
        {
          "data": {
            "application/vnd.microsoft.datawrangler.viewer.v0+json": {
              "columns": [
                {
                  "name": "sentiment",
                  "rawType": "int64",
                  "type": "integer"
                },
                {
                  "name": "count",
                  "rawType": "int64",
                  "type": "integer"
                }
              ],
              "ref": "637cc4e5-d87c-4a28-a821-ebd5db2ccf5d",
              "rows": [
                [
                  "2",
                  "6938"
                ],
                [
                  "1",
                  "3106"
                ],
                [
                  "0",
                  "217"
                ]
              ],
              "shape": {
                "columns": 1,
                "rows": 3
              }
            },
            "text/plain": [
              "sentiment\n",
              "2    6938\n",
              "1    3106\n",
              "0     217\n",
              "Name: count, dtype: int64"
            ]
          },
          "execution_count": 54,
          "metadata": {},
          "output_type": "execute_result"
        }
      ],
      "source": [
        "dataset[\"sentiment\"].value_counts()"
      ]
    },
    {
      "cell_type": "markdown",
      "metadata": {
        "id": "hcgp_u45TNLA"
      },
      "source": [
        "*We had successfully encoded our sentiment into numbers so that our model can easily figure it out. From above, we know that the label `Positive` is encoded into 2, `Neutral` into 1, and `Negative` into 0. Now, we have to give importance of each words in the whole review, i.e. giving them weights. We can do this by using TF-IDF (Term Frequency - Inverse Document Frequency) Vectorizer.*"
      ]
    },
    {
      "cell_type": "markdown",
      "metadata": {
        "id": "tN-4FUIoUykS"
      },
      "source": [
        "**TF-IDF Vectorizer**"
      ]
    },
    {
      "cell_type": "code",
      "execution_count": 55,
      "metadata": {
        "colab": {
          "base_uri": "https://localhost:8080/"
        },
        "id": "e-goqiicUxn0",
        "outputId": "c36494e7-e6ff-4d53-ace2-f6f215b9a54a"
      },
      "outputs": [
        {
          "data": {
            "text/plain": [
              "(10261, 5000)"
            ]
          },
          "execution_count": 55,
          "metadata": {},
          "output_type": "execute_result"
        }
      ],
      "source": [
        "# Defining our vectorizer with total words of 5000 and with bigram model\n",
        "TF_IDF = TfidfVectorizer(max_features = 5000, ngram_range = (2, 2))\n",
        "\n",
        "# Fitting and transforming our reviews into a matrix of weighed words\n",
        "# This will be our independent features\n",
        "X = TF_IDF.fit_transform(dataset[\"reviews\"])\n",
        "\n",
        "# Check our matrix shape\n",
        "X.shape"
      ]
    },
    {
      "cell_type": "code",
      "execution_count": 56,
      "metadata": {
        "id": "mWsg-pk0X-s6"
      },
      "outputs": [],
      "source": [
        "# Declaring our target variable\n",
        "y = dataset[\"sentiment\"]"
      ]
    },
    {
      "cell_type": "markdown",
      "metadata": {
        "id": "Tw_B_VoUWfTW"
      },
      "source": [
        "*From the shape, we successfully transformed our reviews with TF-IDF Vectorizer of 7000 top bigram words. Now, as we know from before, our data is kind of imbalanced with very little neutral and negative values compared to positive sentiments. We need to balance our dataset before going into modelling process.*"
      ]
    },
    {
      "cell_type": "markdown",
      "metadata": {
        "id": "_Hy3K0e9YHWu"
      },
      "source": [
        "**Resampling Our Dataset**"
      ]
    },
    {
      "cell_type": "markdown",
      "metadata": {
        "id": "R1vqIWbKYK_2"
      },
      "source": [
        "*There are many ways to do resampling to an imbalanced dataset, such as SMOTE and Bootstrap Method. We will use SMOTE (Synthetic Minority Oversampling Technique) that will randomly generate new replicates of our undersampling data to balance our dataset.*"
      ]
    },
    {
      "cell_type": "code",
      "execution_count": 57,
      "metadata": {
        "colab": {
          "base_uri": "https://localhost:8080/"
        },
        "id": "52ccFK9Xa67W",
        "outputId": "1cb0e77d-719c-40dc-f93c-73f04d428eb2"
      },
      "outputs": [
        {
          "data": {
            "text/plain": [
              "Counter({2: 6938, 1: 3106, 0: 217})"
            ]
          },
          "execution_count": 57,
          "metadata": {},
          "output_type": "execute_result"
        }
      ],
      "source": [
        "Counter(y)"
      ]
    },
    {
      "cell_type": "code",
      "execution_count": 58,
      "metadata": {
        "colab": {
          "base_uri": "https://localhost:8080/"
        },
        "id": "43Cx9Se-YGdq",
        "outputId": "90c05b19-ca8b-4c89-bf8c-12454ce80c41"
      },
      "outputs": [],
      "source": [
        "Balancer = SMOTE(random_state = 42)\n",
        "X_final, y_final = Balancer.fit_resample(X, y)"
      ]
    },
    {
      "cell_type": "code",
      "execution_count": 59,
      "metadata": {
        "colab": {
          "base_uri": "https://localhost:8080/"
        },
        "id": "OwTkzRzZZanA",
        "outputId": "547caf7d-f904-47d5-f35c-ec35017e458f"
      },
      "outputs": [
        {
          "data": {
            "text/plain": [
              "Counter({2: 6938, 1: 6938, 0: 6938})"
            ]
          },
          "execution_count": 59,
          "metadata": {},
          "output_type": "execute_result"
        }
      ],
      "source": [
        "Counter(y_final)"
      ]
    },
    {
      "cell_type": "markdown",
      "metadata": {
        "id": "DQBmnh4zb6MB"
      },
      "source": [
        "*Now our data is already balanced as we can see from the counter of each sentiment categories before and after the resampling with SMOTE.*"
      ]
    },
    {
      "cell_type": "markdown",
      "metadata": {
        "id": "vgyY6IaxcdKf"
      },
      "source": [
        "**Splitting Our Dataset**"
      ]
    },
    {
      "cell_type": "code",
      "execution_count": 60,
      "metadata": {
        "id": "hborTgZccgaZ"
      },
      "outputs": [],
      "source": [
        "X_train, X_test, y_train, y_test = train_test_split(X_final, y_final, test_size=0.25, random_state=42, stratify=y_final)"
      ]
    },
    {
      "cell_type": "markdown",
      "metadata": {
        "id": "UddzYtN_dPxO"
      },
      "source": [
        "*We splitted our dataset into 75:25 portion respectively for the training and test set.*"
      ]
    },
    {
      "cell_type": "markdown",
      "metadata": {
        "id": "xKRl6lLj40Eh"
      },
      "source": [
        "\n",
        "\n",
        "---\n",
        "\n"
      ]
    },
    {
      "cell_type": "markdown",
      "metadata": {
        "id": "7X6-FYlYeJO5"
      },
      "source": [
        "# Model Selection and Evaluation"
      ]
    },
    {
      "cell_type": "markdown",
      "metadata": {
        "id": "HbzB2Z6weOgM"
      },
      "source": [
        "*We do not really know what is the best model that fits our data well. Because of that, we will need to try every classification models available and find the best models using the Confusion Matrix and F1 Score as our main metrics, and the rest of the metrics as our support. First, we should do some cross validation techniques in order to find the best model.*"
      ]
    },
    {
      "cell_type": "markdown",
      "metadata": {
        "id": "sf_pPZInhBJ0"
      },
      "source": [
        "**Model Building**"
      ]
    },
    {
      "cell_type": "markdown",
      "metadata": {
        "id": "1cpWmzCh5u5o"
      },
      "source": [
        "*We are using K-Fold Cross Validation on our early dataset (before resampling) because the CV itself is not affected by the imbalanced dataset as it splits the dataset and takes into account every validations. If we use the CV on the balanced dataset that we got from resampling we should be able to get similar result.*"
      ]
    },
    {
      "cell_type": "code",
      "execution_count": 61,
      "metadata": {
        "colab": {
          "base_uri": "https://localhost:8080/"
        },
        "id": "vQ-F3XV5hAnt",
        "outputId": "9b3e5581-9436-438e-cb32-b479a0b2ce14"
      },
      "outputs": [
        {
          "name": "stdout",
          "output_type": "stream",
          "text": [
            "Decision Tree Test Accuracy: 0.6320037354014703\n",
            "Logistic Regression Test Accuracy: 0.7156222537301817\n",
            "SVC Test Accuracy: 0.7070453505829921\n",
            "Random Forest Test Accuracy: 0.7011981565945591\n",
            "Naive Bayes Test Accuracy: 0.6754670675390195\n",
            "K-Neighbors Test Accuracy: 0.5973238164110916\n"
          ]
        }
      ],
      "source": [
        "DTree = DecisionTreeClassifier()\n",
        "LogReg = LogisticRegression()\n",
        "SVC = SVC()\n",
        "RForest = RandomForestClassifier()\n",
        "Bayes = BernoulliNB()\n",
        "KNN = KNeighborsClassifier()\n",
        "\n",
        "Models = [DTree, LogReg, SVC, RForest, Bayes, KNN]\n",
        "Models_Dict = {0: \"Decision Tree\", 1: \"Logistic Regression\", 2: \"SVC\", 3: \"Random Forest\", 4: \"Naive Bayes\", 5: \"K-Neighbors\"}\n",
        "\n",
        "for i, model in enumerate(Models):\n",
        "  print(\"{} Test Accuracy: {}\".format(Models_Dict[i], cross_val_score(model, X, y, cv = 10, scoring = \"accuracy\").mean()))"
      ]
    },
    {
      "cell_type": "markdown",
      "metadata": {
        "id": "-WQKgchn6Go_"
      },
      "source": [
        "*We got six models on our sleeves and from the results of 10-Fold Cross Validation, we know that the `Logistic Regression` model is the best model with the highest accuracy, slightly beating the `SVC`. Because of this, we will use the best model in predicting our sentiment, also to tune our parameter and evaluate the end-result of how well the model works.*"
      ]
    },
    {
      "cell_type": "markdown",
      "metadata": {
        "id": "smCQV1iar4vt"
      },
      "source": [
        "**Hyperparameter Tuning**"
      ]
    },
    {
      "cell_type": "code",
      "execution_count": null,
      "metadata": {
        "colab": {
          "base_uri": "https://localhost:8080/"
        },
        "id": "0AabDLn0r7yX",
        "outputId": "0e83a7ec-4e50-4f71-cded-7f52294c5e2e"
      },
      "outputs": [
        {
          "name": "stderr",
          "output_type": "stream",
          "text": [
            "c:\\Users\\ASUS\\miniconda3\\Lib\\site-packages\\sklearn\\model_selection\\_validation.py:516: FitFailedWarning: \n",
            "500 fits failed out of a total of 1000.\n",
            "The score on these train-test partitions for these parameters will be set to nan.\n",
            "If these failures are not expected, you can try to debug them by setting error_score='raise'.\n",
            "\n",
            "Below are more details about the failures:\n",
            "--------------------------------------------------------------------------------\n",
            "500 fits failed with the following error:\n",
            "Traceback (most recent call last):\n",
            "  File \"c:\\Users\\ASUS\\miniconda3\\Lib\\site-packages\\sklearn\\model_selection\\_validation.py\", line 859, in _fit_and_score\n",
            "    estimator.fit(X_train, y_train, **fit_params)\n",
            "    ~~~~~~~~~~~~~^^^^^^^^^^^^^^^^^^^^^^^^^^^^^^^^\n",
            "  File \"c:\\Users\\ASUS\\miniconda3\\Lib\\site-packages\\sklearn\\base.py\", line 1365, in wrapper\n",
            "    return fit_method(estimator, *args, **kwargs)\n",
            "  File \"c:\\Users\\ASUS\\miniconda3\\Lib\\site-packages\\sklearn\\linear_model\\_logistic.py\", line 1218, in fit\n",
            "    solver = _check_solver(self.solver, self.penalty, self.dual)\n",
            "  File \"c:\\Users\\ASUS\\miniconda3\\Lib\\site-packages\\sklearn\\linear_model\\_logistic.py\", line 64, in _check_solver\n",
            "    raise ValueError(\n",
            "    ...<2 lines>...\n",
            "    )\n",
            "ValueError: Solver lbfgs supports only 'l2' or None penalties, got l1 penalty.\n",
            "\n",
            "  warnings.warn(some_fits_failed_message, FitFailedWarning)\n",
            "c:\\Users\\ASUS\\miniconda3\\Lib\\site-packages\\sklearn\\model_selection\\_search.py:1135: UserWarning: One or more of the test scores are non-finite: [       nan 0.69045484        nan 0.69000641        nan 0.7222934\n",
            "        nan 0.72786675        nan 0.73484946        nan 0.73645099\n",
            "        nan 0.73606662        nan 0.7359385         nan 0.73786035\n",
            "        nan 0.73696348        nan 0.73484946        nan 0.73728379\n",
            "        nan 0.73786035        nan 0.73933376        nan 0.74080717\n",
            "        nan 0.74253684        nan 0.74618834        nan 0.75169763\n",
            "        nan 0.7579116         nan 0.76361307        nan 0.76995516\n",
            "        nan 0.77783472        nan 0.78539398        nan 0.79160794\n",
            "        nan 0.79929532        nan 0.80589366        nan 0.81063421\n",
            "        nan 0.81390135        nan 0.81941063        nan 0.82165279\n",
            "        nan 0.82184497        nan 0.82101217        nan 0.82216528\n",
            "        nan 0.82114029        nan 0.82114029        nan 0.8222934\n",
            "        nan 0.82286996        nan 0.82267777        nan 0.82485586\n",
            "        nan 0.82485586        nan 0.82664958        nan 0.82786675\n",
            "        nan 0.82940423        nan 0.82998078        nan 0.83004484\n",
            "        nan 0.83119795        nan 0.83087764        nan 0.83158232\n",
            "        nan 0.8314542         nan 0.83158232]\n",
            "  warnings.warn(\n"
          ]
        },
        {
          "name": "stdout",
          "output_type": "stream",
          "text": [
            "Best Accuracy: 83.16 %\n",
            "Best Parameters: {'C': np.float64(4714.8663634573895), 'penalty': 'l2'}\n"
          ]
        },
        {
          "name": "stderr",
          "output_type": "stream",
          "text": [
            "c:\\Users\\ASUS\\miniconda3\\Lib\\site-packages\\sklearn\\linear_model\\_logistic.py:473: ConvergenceWarning: lbfgs failed to converge after 100 iteration(s) (status=1):\n",
            "STOP: TOTAL NO. OF ITERATIONS REACHED LIMIT\n",
            "\n",
            "Increase the number of iterations to improve the convergence (max_iter=100).\n",
            "You might also want to scale the data as shown in:\n",
            "    https://scikit-learn.org/stable/modules/preprocessing.html\n",
            "Please also refer to the documentation for alternative solver options:\n",
            "    https://scikit-learn.org/stable/modules/linear_model.html#logistic-regression\n",
            "  n_iter_i = _check_optimize_result(\n"
          ]
        }
      ],
      "source": [
        "Param = {\"C\": np.logspace(-4, 4, 50), \"penalty\": ['l1', 'l2']}\n",
        "grid_search = GridSearchCV(estimator = LogisticRegression(random_state = 42), param_grid = Param, scoring = \"accuracy\", cv = 10, verbose = 0, n_jobs = 1)\n",
        "\n",
        "grid_search.fit(X_train, y_train)\n",
        "best_accuracy = grid_search.best_score_\n",
        "best_parameters = grid_search.best_params_\n",
        "\n",
        "print(\"Best Accuracy: {:.2f} %\".format(best_accuracy*100))\n",
        "print(\"Best Parameters:\", best_parameters)"
      ]
    },
    {
      "cell_type": "markdown",
      "metadata": {
        "id": "t-L20RgIvxlC"
      },
      "source": [
        "*We got a nice accuracy on our training set, which is 94.80% and from our Grid Search, we are also able to find our optimal hyperparameters. It is time to finish our model using these parameters to get the best model of Logistic Regression.*"
      ]
    },
    {
      "cell_type": "markdown",
      "metadata": {
        "id": "XosBBQxgCqpS"
      },
      "source": [
        "**Best Model**"
      ]
    },
    {
      "cell_type": "code",
      "execution_count": 63,
      "metadata": {
        "colab": {
          "base_uri": "https://localhost:8080/"
        },
        "id": "jEddDzCQCueI",
        "outputId": "5e9b8850-8eb5-47e9-a03c-0d6615572899"
      },
      "outputs": [
        {
          "name": "stderr",
          "output_type": "stream",
          "text": [
            "c:\\Users\\ASUS\\miniconda3\\Lib\\site-packages\\sklearn\\linear_model\\_logistic.py:473: ConvergenceWarning: lbfgs failed to converge after 100 iteration(s) (status=1):\n",
            "STOP: TOTAL NO. OF ITERATIONS REACHED LIMIT\n",
            "\n",
            "Increase the number of iterations to improve the convergence (max_iter=100).\n",
            "You might also want to scale the data as shown in:\n",
            "    https://scikit-learn.org/stable/modules/preprocessing.html\n",
            "Please also refer to the documentation for alternative solver options:\n",
            "    https://scikit-learn.org/stable/modules/linear_model.html#logistic-regression\n",
            "  n_iter_i = _check_optimize_result(\n"
          ]
        }
      ],
      "source": [
        "Classifier = LogisticRegression(random_state = 42, C = 6866.488450042998, penalty = 'l2')\n",
        "Classifier.fit(X_train, y_train)\n",
        "\n",
        "Prediction = Classifier.predict(X_test)"
      ]
    },
    {
      "cell_type": "markdown",
      "metadata": {
        "id": "OqWMpjL2xCHt"
      },
      "source": [
        "*Now that our model is done, we will test our model on our test set. The metrics that we will evaluate is based on this prediction that we made here.*"
      ]
    },
    {
      "cell_type": "markdown",
      "metadata": {
        "id": "x98T1PtIoESm"
      },
      "source": [
        "**Metrics**"
      ]
    },
    {
      "cell_type": "markdown",
      "metadata": {
        "id": "mPqayCouHxTE"
      },
      "source": [
        "Accuracy On Test Set"
      ]
    },
    {
      "cell_type": "code",
      "execution_count": 64,
      "metadata": {
        "colab": {
          "base_uri": "https://localhost:8080/"
        },
        "id": "_SVcygL6Hyj5",
        "outputId": "42d027db-9f5d-4e48-8b15-d44789f2fe58"
      },
      "outputs": [
        {
          "data": {
            "text/plain": [
              "0.8332052267486548"
            ]
          },
          "execution_count": 64,
          "metadata": {},
          "output_type": "execute_result"
        }
      ],
      "source": [
        "accuracy_score(y_test, Prediction)"
      ]
    },
    {
      "cell_type": "markdown",
      "metadata": {
        "id": "SovP_zJvxMsE"
      },
      "source": [
        "*Really high accuracy that we got here, 95.21%. Still, we need to look out for the Confusion Matrix and F1 Score to find out about our model performance.*"
      ]
    },
    {
      "cell_type": "markdown",
      "metadata": {
        "id": "yRV__euroIBW"
      },
      "source": [
        "Confusion Matrix"
      ]
    },
    {
      "cell_type": "code",
      "execution_count": 65,
      "metadata": {
        "id": "jEKXuliUHYEt"
      },
      "outputs": [],
      "source": [
        "ConfusionMatrix = confusion_matrix(y_test, Prediction)"
      ]
    },
    {
      "cell_type": "markdown",
      "metadata": {
        "id": "-uy9UJzzHZpn"
      },
      "source": [
        "Visualizing Our Confusion Matrix"
      ]
    },
    {
      "cell_type": "code",
      "execution_count": 66,
      "metadata": {
        "id": "ObhVU8GKoF8v"
      },
      "outputs": [],
      "source": [
        "# Plotting Function for Confusion Matrix\n",
        "def plot_cm(cm, classes, title, normalized = False, cmap = plt.cm.Blues):\n",
        "\n",
        "  plt.imshow(cm, interpolation = \"nearest\", cmap = cmap)\n",
        "  plt.title(title, pad = 20)\n",
        "  plt.colorbar()\n",
        "  tick_marks = np.arange(len(classes))\n",
        "  plt.xticks(tick_marks, classes)\n",
        "  plt.yticks(tick_marks, classes)\n",
        "\n",
        "  if normalized:\n",
        "    cm = cm.astype('float') / cm.sum(axis = 1)[: np.newaxis]\n",
        "    print(\"Normalized Confusion Matrix\")\n",
        "  else:\n",
        "    print(\"Unnormalized Confusion Matrix\")\n",
        "  \n",
        "  threshold = cm.max() / 2\n",
        "  for i in range(cm.shape[0]):\n",
        "    for j in range(cm.shape[1]):\n",
        "      plt.text(j, i, cm[i, j], horizontalalignment = \"center\", color = \"white\" if cm[i, j] > threshold else \"black\")\n",
        "\n",
        "  plt.tight_layout()\n",
        "  plt.xlabel(\"Predicted Label\", labelpad = 20)\n",
        "  plt.ylabel(\"Actual Label\", labelpad = 20)"
      ]
    },
    {
      "cell_type": "code",
      "execution_count": 67,
      "metadata": {
        "colab": {
          "base_uri": "https://localhost:8080/",
          "height": 344
        },
        "id": "fOwaQnIbIxS4",
        "outputId": "9893e164-92fe-4f72-8714-5754cb977f34"
      },
      "outputs": [
        {
          "name": "stdout",
          "output_type": "stream",
          "text": [
            "Unnormalized Confusion Matrix\n"
          ]
        },
        {
          "data": {
            "image/png": "[encoded data removed]",
            "text/plain": [
              "<Figure size 640x480 with 2 Axes>"
            ]
          },
          "metadata": {},
          "output_type": "display_data"
        }
      ],
      "source": [
        "plot_cm(ConfusionMatrix, classes = [\"Positive\", \"Neutral\", \"Negative\"], title = \"Confusion Matrix of Sentiment Analysis\")"
      ]
    },
    {
      "cell_type": "markdown",
      "metadata": {
        "id": "MO_uuTkHyAbw"
      },
      "source": [
        "*What we can gain from the Confusion Matrix above is that the model overall works well. It is able to categorize both positive and neutral sentiments correctly, while it seems to struggle a bit at determining negative sentiments. Of course, this is the effect of imbalanced data that we got from our original dataset, and luckily we can minimize the effect thanks to our SMOTE resampling before.*"
      ]
    },
    {
      "cell_type": "markdown",
      "metadata": {
        "id": "VSqWDmE6zEf2"
      },
      "source": [
        "Classification Scores"
      ]
    },
    {
      "cell_type": "code",
      "execution_count": 68,
      "metadata": {
        "colab": {
          "base_uri": "https://localhost:8080/"
        },
        "id": "YMmXVR2rzIEB",
        "outputId": "953efef7-c6c6-4f5e-ef5f-a4259ab7f3b6"
      },
      "outputs": [
        {
          "name": "stdout",
          "output_type": "stream",
          "text": [
            "              precision    recall  f1-score   support\n",
            "\n",
            "           0       0.97      0.99      0.98      1734\n",
            "           1       0.73      0.83      0.78      1735\n",
            "           2       0.81      0.69      0.74      1735\n",
            "\n",
            "    accuracy                           0.83      5204\n",
            "   macro avg       0.84      0.83      0.83      5204\n",
            "weighted avg       0.84      0.83      0.83      5204\n",
            "\n"
          ]
        }
      ],
      "source": [
        "print(classification_report(y_test, Prediction))"
      ]
    },
    {
      "cell_type": "markdown",
      "metadata": {
        "id": "9gKBKMVWzfu-"
      },
      "source": [
        "*Overall, to each of our sentiment categories, we got F1 Score of 95%, which is great and because of that we can conclude that our model works well on the dataset.*"
      ]
    },
    {
      "cell_type": "markdown",
      "metadata": {
        "id": "GUjks_Ps42E_"
      },
      "source": [
        "\n",
        "\n",
        "---\n",
        "\n"
      ]
    },
    {
      "cell_type": "markdown",
      "metadata": {
        "id": "-voe6yFbz9sw"
      },
      "source": [
        "# Conclusion"
      ]
    },
    {
      "cell_type": "markdown",
      "metadata": {
        "id": "VZ0SJ-lA0AAU"
      },
      "source": [
        "**Dataset**"
      ]
    },
    {
      "cell_type": "markdown",
      "metadata": {
        "id": "trUlnA_30Erh"
      },
      "source": [
        "\n",
        "\n",
        "1.   Our dataset contains many features about user reviews on musical instruments. But, we rarely need those features as our model variables because those features are not really important for sentiment analysis.\n",
        "2.   We might need to omit our part of removing stopwords in our preprocessing phase, because there might be some important words in determining user sentiments in our model.\n",
        "3.   From our text analysis, we know that most of the transactions made are related to guitars or other string-based instruments. We can say that guitar got a really high attention from the customers' pool and the sellers can emphasize their products on this instruments.\n",
        "\n"
      ]
    },
    {
      "cell_type": "markdown",
      "metadata": {
        "id": "ZwivYWyw1bSf"
      },
      "source": [
        "**Model**"
      ]
    },
    {
      "cell_type": "markdown",
      "metadata": {
        "id": "UCmxb-KG1dOK"
      },
      "source": [
        "\n",
        "\n",
        "1.   We tried almost all classification models available. By using 10-Fold Cross Validation, we get that Logistic Regression Model got the best accuracy and we decided to use this model and tune it.\n",
        "2.   On our attempt on making prediction to our test set, we also received a nice accuracy and high F1 Score. This means that our model works well on sentiment analysis.\n",
        "3.   We need to consider more Cross Validation Method, such as Stratified K-Fold so that we do not really need to do resampling on our dataset. Also, we are fine without data scaling, but it is highly suggested to do it.\n",
        "\n"
      ]
    },
    {
      "cell_type": "markdown",
      "metadata": {
        "id": "QDLJSURW43qO"
      },
      "source": [
        "\n",
        "\n",
        "---\n",
        "\n"
      ]
    },
    {
      "cell_type": "code",
      "execution_count": 74,
      "metadata": {},
      "outputs": [
        {
          "name": "stderr",
          "output_type": "stream",
          "text": [
            "[nltk_data] Downloading package punkt to\n",
            "[nltk_data]     C:\\Users\\ASUS\\AppData\\Roaming\\nltk_data...\n",
            "[nltk_data]   Package punkt is already up-to-date!\n",
            "[nltk_data] Downloading package stopwords to\n",
            "[nltk_data]     C:\\Users\\ASUS\\AppData\\Roaming\\nltk_data...\n",
            "[nltk_data]   Package stopwords is already up-to-date!\n",
            "[nltk_data] Downloading package averaged_perceptron_tagger to\n",
            "[nltk_data]     C:\\Users\\ASUS\\AppData\\Roaming\\nltk_data...\n",
            "[nltk_data]   Package averaged_perceptron_tagger is already up-to-\n",
            "[nltk_data]       date!\n"
          ]
        },
        {
          "data": {
            "text/plain": [
              "True"
            ]
          },
          "execution_count": 74,
          "metadata": {},
          "output_type": "execute_result"
        }
      ],
      "source": [
        "import nltk\n",
        "nltk.download('punkt')\n",
        "nltk.download('stopwords')\n",
        "nltk.download('averaged_perceptron_tagger')"
      ]
    },
    {
      "cell_type": "code",
      "execution_count": 73,
      "metadata": {},
      "outputs": [
        {
          "name": "stdout",
          "output_type": "stream",
          "text": [
            "['C:\\\\Users\\\\ASUS/nltk_data', 'c:\\\\Users\\\\ASUS\\\\miniconda3\\\\nltk_data', 'c:\\\\Users\\\\ASUS\\\\miniconda3\\\\share\\\\nltk_data', 'c:\\\\Users\\\\ASUS\\\\miniconda3\\\\lib\\\\nltk_data', 'C:\\\\Users\\\\ASUS\\\\AppData\\\\Roaming\\\\nltk_data', 'C:\\\\nltk_data', 'D:\\\\nltk_data', 'E:\\\\nltk_data']\n"
          ]
        }
      ],
      "source": [
        "import nltk\n",
        "print(nltk.data.path)"
      ]
    },
    {
      "cell_type": "code",
      "execution_count": 75,
      "metadata": {},
      "outputs": [],
      "source": [
        "import nltk\n",
        "nltk.data.clear_cache()"
      ]
    },
    {
      "cell_type": "code",
      "execution_count": 2,
      "metadata": {},
      "outputs": [
        {
          "name": "stderr",
          "output_type": "stream",
          "text": [
            "<>:60: SyntaxWarning: invalid escape sequence '\\S'\n",
            "<>:60: SyntaxWarning: invalid escape sequence '\\S'\n",
            "C:\\Users\\ASUS\\AppData\\Local\\Temp\\ipykernel_10720\\2131075566.py:60: SyntaxWarning: invalid escape sequence '\\S'\n",
            "  Text = re.sub('https?://\\S+|www\\.\\S+', '', Text)  # Remove links\n",
            "[nltk_data] Downloading package stopwords to\n",
            "[nltk_data]     C:\\Users\\ASUS\\AppData\\Roaming\\nltk_data...\n",
            "[nltk_data]   Unzipping corpora\\stopwords.zip.\n",
            "[nltk_data] Downloading package punkt to\n",
            "[nltk_data]     C:\\Users\\ASUS\\AppData\\Roaming\\nltk_data...\n",
            "[nltk_data]   Unzipping tokenizers\\punkt.zip.\n",
            "[nltk_data] Downloading package averaged_perceptron_tagger to\n",
            "[nltk_data]     C:\\Users\\ASUS\\AppData\\Roaming\\nltk_data...\n",
            "[nltk_data]   Unzipping taggers\\averaged_perceptron_tagger.zip.\n",
            "[nltk_data] Downloading package averaged_perceptron_tagger_eng to\n",
            "[nltk_data]     C:\\Users\\ASUS\\AppData\\Roaming\\nltk_data...\n",
            "[nltk_data]   Unzipping taggers\\averaged_perceptron_tagger_eng.zip.\n",
            "C:\\Users\\ASUS\\AppData\\Local\\Temp\\ipykernel_10720\\2131075566.py:38: FutureWarning: A value is trying to be set on a copy of a DataFrame or Series through chained assignment using an inplace method.\n",
            "The behavior will change in pandas 3.0. This inplace method will never work because the intermediate object on which we are setting values always behaves as a copy.\n",
            "\n",
            "For example, when doing 'df[col].method(value, inplace=True)', try using 'df.method({col: value}, inplace=True)' or df[col] = df[col].method(value) instead, to perform the operation inplace on the original object.\n",
            "\n",
            "\n",
            "  dataset.reviewText.fillna(value = \"\", inplace = True)\n"
          ]
        },
        {
          "name": "stdout",
          "output_type": "stream",
          "text": [
            "Decision Tree Test Accuracy: 0.6216733953242947\n",
            "Logistic Regression Test Accuracy: 0.6937910338976296\n",
            "SVC Test Accuracy: 0.6933048433048434\n",
            "Random Forest Test Accuracy: 0.6812199274557702\n",
            "Naive Bayes Test Accuracy: 0.6567562745444158\n",
            "K-Neighbors Test Accuracy: 0.6031618996642314\n"
          ]
        },
        {
          "name": "stderr",
          "output_type": "stream",
          "text": [
            "c:\\Users\\ASUS\\miniconda3\\Lib\\site-packages\\sklearn\\model_selection\\_validation.py:516: FitFailedWarning: \n",
            "500 fits failed out of a total of 1000.\n",
            "The score on these train-test partitions for these parameters will be set to nan.\n",
            "If these failures are not expected, you can try to debug them by setting error_score='raise'.\n",
            "\n",
            "Below are more details about the failures:\n",
            "--------------------------------------------------------------------------------\n",
            "500 fits failed with the following error:\n",
            "Traceback (most recent call last):\n",
            "  File \"c:\\Users\\ASUS\\miniconda3\\Lib\\site-packages\\sklearn\\model_selection\\_validation.py\", line 859, in _fit_and_score\n",
            "    estimator.fit(X_train, y_train, **fit_params)\n",
            "    ~~~~~~~~~~~~~^^^^^^^^^^^^^^^^^^^^^^^^^^^^^^^^\n",
            "  File \"c:\\Users\\ASUS\\miniconda3\\Lib\\site-packages\\sklearn\\base.py\", line 1365, in wrapper\n",
            "    return fit_method(estimator, *args, **kwargs)\n",
            "  File \"c:\\Users\\ASUS\\miniconda3\\Lib\\site-packages\\sklearn\\linear_model\\_logistic.py\", line 1218, in fit\n",
            "    solver = _check_solver(self.solver, self.penalty, self.dual)\n",
            "  File \"c:\\Users\\ASUS\\miniconda3\\Lib\\site-packages\\sklearn\\linear_model\\_logistic.py\", line 64, in _check_solver\n",
            "    raise ValueError(\n",
            "    ...<2 lines>...\n",
            "    )\n",
            "ValueError: Solver lbfgs supports only 'l2' or None penalties, got l1 penalty.\n",
            "\n",
            "  warnings.warn(some_fits_failed_message, FitFailedWarning)\n",
            "c:\\Users\\ASUS\\miniconda3\\Lib\\site-packages\\sklearn\\model_selection\\_search.py:1135: UserWarning: One or more of the test scores are non-finite: [       nan 0.66335682        nan 0.66335682        nan 0.64926329\n",
            "        nan 0.61684817        nan 0.64465086        nan 0.65060858\n",
            "        nan 0.65547726        nan 0.65861627        nan 0.66098655\n",
            "        nan 0.6640615         nan 0.66380525        nan 0.66675208\n",
            "        nan 0.66976297        nan 0.67219731        nan 0.67693786\n",
            "        nan 0.68142217        nan 0.68750801        nan 0.69442665\n",
            "        nan 0.70313901        nan 0.71223575        nan 0.71992313\n",
            "        nan 0.72722614        nan 0.73491352        nan 0.74298527\n",
            "        nan 0.74830237        nan 0.7529148         nan 0.75727098\n",
            "        nan 0.76092249        nan 0.76508648        nan 0.7693786\n",
            "        nan 0.77194106        nan 0.77533632        nan 0.77706598\n",
            "        nan 0.7796925         nan 0.78353619        nan 0.78648302\n",
            "        nan 0.78814862        nan 0.78949391        nan 0.79320948\n",
            "        nan 0.7941704         nan 0.7966688         nan 0.79827034\n",
            "        nan 0.79923126        nan 0.80269058        nan 0.80352338\n",
            "        nan 0.8049968         nan 0.80365151        nan 0.80275464\n",
            "        nan 0.80679052        nan 0.8058296 ]\n",
            "  warnings.warn(\n",
            "c:\\Users\\ASUS\\miniconda3\\Lib\\site-packages\\sklearn\\linear_model\\_logistic.py:473: ConvergenceWarning: lbfgs failed to converge after 100 iteration(s) (status=1):\n",
            "STOP: TOTAL NO. OF ITERATIONS REACHED LIMIT\n",
            "\n",
            "Increase the number of iterations to improve the convergence (max_iter=100).\n",
            "You might also want to scale the data as shown in:\n",
            "    https://scikit-learn.org/stable/modules/preprocessing.html\n",
            "Please also refer to the documentation for alternative solver options:\n",
            "    https://scikit-learn.org/stable/modules/linear_model.html#logistic-regression\n",
            "  n_iter_i = _check_optimize_result(\n"
          ]
        },
        {
          "name": "stdout",
          "output_type": "stream",
          "text": [
            "Best Accuracy: 80.68 %\n",
            "Best Parameters: {'C': np.float64(6866.488450042998), 'penalty': 'l2'}\n",
            "Accuracy on Test Data: 0.8164873174481169\n",
            "Classification Report:\n",
            "               precision    recall  f1-score   support\n",
            "\n",
            "           0       0.88      1.00      0.94      1734\n",
            "           1       0.74      0.81      0.77      1735\n",
            "           2       0.83      0.64      0.72      1735\n",
            "\n",
            "    accuracy                           0.82      5204\n",
            "   macro avg       0.82      0.82      0.81      5204\n",
            "weighted avg       0.82      0.82      0.81      5204\n",
            "\n"
          ]
        },
        {
          "name": "stderr",
          "output_type": "stream",
          "text": [
            "c:\\Users\\ASUS\\miniconda3\\Lib\\site-packages\\sklearn\\linear_model\\_logistic.py:473: ConvergenceWarning: lbfgs failed to converge after 100 iteration(s) (status=1):\n",
            "STOP: TOTAL NO. OF ITERATIONS REACHED LIMIT\n",
            "\n",
            "Increase the number of iterations to improve the convergence (max_iter=100).\n",
            "You might also want to scale the data as shown in:\n",
            "    https://scikit-learn.org/stable/modules/preprocessing.html\n",
            "Please also refer to the documentation for alternative solver options:\n",
            "    https://scikit-learn.org/stable/modules/linear_model.html#logistic-regression\n",
            "  n_iter_i = _check_optimize_result(\n"
          ]
        }
      ],
      "source": [
        "# Importing necessary libraries\n",
        "import pandas as pd\n",
        "import numpy as np\n",
        "import re\n",
        "import string\n",
        "import nltk\n",
        "from nltk.corpus import stopwords\n",
        "from nltk.tokenize import word_tokenize\n",
        "from nltk.corpus import stopwords\n",
        "from nltk.tag import pos_tag\n",
        "from nltk.stem import WordNetLemmatizer\n",
        "from sklearn.model_selection import train_test_split\n",
        "from sklearn.preprocessing import LabelEncoder\n",
        "from sklearn.feature_extraction.text import TfidfVectorizer\n",
        "from sklearn.metrics import classification_report, accuracy_score\n",
        "from imblearn.over_sampling import SMOTE\n",
        "from sklearn.model_selection import GridSearchCV\n",
        "from sklearn.linear_model import LogisticRegression\n",
        "from sklearn.tree import DecisionTreeClassifier\n",
        "from sklearn.svm import SVC\n",
        "from sklearn.ensemble import RandomForestClassifier\n",
        "from sklearn.naive_bayes import BernoulliNB\n",
        "from sklearn.neighbors import KNeighborsClassifier\n",
        "from sklearn.model_selection import cross_val_score\n",
        "from textblob import TextBlob\n",
        "\n",
        "\n",
        "# Ensure necessary NLTK resources are downloaded\n",
        "nltk.download('stopwords', force=True)\n",
        "nltk.download('punkt', force=True)\n",
        "nltk.download('averaged_perceptron_tagger', force=True)\n",
        "nltk.download('averaged_perceptron_tagger_eng', force=True)\n",
        "\n",
        "# Load dataset\n",
        "dataset = pd.read_csv(\"Instruments_Reviews.csv\")\n",
        "\n",
        "# Filling missing values in reviewText\n",
        "dataset.reviewText.fillna(value = \"\", inplace = True)\n",
        "dataset[\"reviews\"] = dataset[\"reviewText\"] + \" \" + dataset[\"summary\"]\n",
        "dataset.drop(columns = [\"reviewText\", \"summary\"], axis = 1, inplace = True)\n",
        "\n",
        "# Labeling sentiment based on 'overall' rating\n",
        "def Labelling(Rows):\n",
        "    if(Rows[\"overall\"] > 4.0):\n",
        "        Label = \"Positive\"\n",
        "    elif(Rows[\"overall\"] <= 2.0):\n",
        "        Label = \"Negative\"\n",
        "    else:\n",
        "        Label = \"Neutral\"\n",
        "    return Label\n",
        "\n",
        "dataset[\"sentiment\"] = dataset.apply(Labelling, axis = 1)\n",
        "\n",
        "# Text cleaning\n",
        "def Text_Cleaning(Text):\n",
        "    Text = Text.lower()  # Lowercase the text\n",
        "    punc = str.maketrans(string.punctuation, ' '*len(string.punctuation))  # Remove punctuations\n",
        "    Text = Text.translate(punc)\n",
        "    Text = re.sub(r'\\d+', '', Text)  # Remove numbers\n",
        "    Text = re.sub('https?://\\S+|www\\.\\S+', '', Text)  # Remove links\n",
        "    Text = re.sub('\\n', '', Text)  # Remove newlines\n",
        "    return Text\n",
        "\n",
        "# Removing stopwords and lemmatizing words\n",
        "Stopwords = set(stopwords.words(\"english\")) - set([\"not\"])\n",
        "Lemmatizer = WordNetLemmatizer()\n",
        "\n",
        "def Text_Processing(Text):\n",
        "    Processed_Text = list()\n",
        "    Tokens = nltk.word_tokenize(Text)\n",
        "    Tagged_Tokens = pos_tag(Tokens)\n",
        "\n",
        "    # Removing stopwords, lemmatizing words, and excluding nouns\n",
        "    for word, tag in Tagged_Tokens:\n",
        "        if word not in Stopwords and tag not in ['NN', 'NNS', 'NNP', 'NNPS']:  # Exclude nouns\n",
        "            Processed_Text.append(Lemmatizer.lemmatize(word))\n",
        "\n",
        "    return \" \".join(Processed_Text)\n",
        "\n",
        "# Applying text cleaning and processing to reviews\n",
        "dataset[\"reviews\"] = dataset[\"reviews\"].apply(lambda Text: Text_Cleaning(Text))\n",
        "dataset[\"reviews\"] = dataset[\"reviews\"].apply(lambda Text: Text_Processing(Text))\n",
        "\n",
        "# Calculating sentiment polarity\n",
        "dataset[\"polarity\"] = dataset[\"reviews\"].map(lambda Text: TextBlob(Text).sentiment.polarity)\n",
        "\n",
        "# Calculating review length and word counts\n",
        "dataset[\"length\"] = dataset[\"reviews\"].astype(str).apply(len)\n",
        "dataset[\"word_counts\"] = dataset[\"reviews\"].apply(lambda x: len(str(x).split()))\n",
        "\n",
        "# Splitting data into Positive, Neutral, and Negative sentiment\n",
        "Positive = dataset[dataset[\"sentiment\"] == \"Positive\"].dropna()\n",
        "Neutral = dataset[dataset[\"sentiment\"] == \"Neutral\"].dropna()\n",
        "Negative = dataset[dataset[\"sentiment\"] == \"Negative\"].dropna()\n",
        "\n",
        "# Label encoding for the target variable\n",
        "Encoder = LabelEncoder()\n",
        "dataset[\"sentiment\"] = Encoder.fit_transform(dataset[\"sentiment\"])\n",
        "\n",
        "# TF-IDF Vectorization (Bigram Model)\n",
        "TF_IDF = TfidfVectorizer(max_features=5000, ngram_range=(2, 2))\n",
        "\n",
        "# Fitting and transforming reviews into a matrix of weighed words\n",
        "X = TF_IDF.fit_transform(dataset[\"reviews\"])\n",
        "\n",
        "# Declaring the target variable\n",
        "y = dataset[\"sentiment\"]\n",
        "\n",
        "# Handling class imbalance with SMOTE\n",
        "Balancer = SMOTE(random_state=42)\n",
        "X_final, y_final = Balancer.fit_resample(X, y)\n",
        "\n",
        "# Splitting the dataset into train and test sets\n",
        "X_train, X_test, y_train, y_test = train_test_split(X_final, y_final, test_size=0.25, random_state=42, stratify=y_final)\n",
        "\n",
        "# Initializing models\n",
        "Models = [\n",
        "    DecisionTreeClassifier(),\n",
        "    LogisticRegression(),\n",
        "    SVC(),\n",
        "    RandomForestClassifier(),\n",
        "    BernoulliNB(),\n",
        "    KNeighborsClassifier()\n",
        "]\n",
        "Models_Dict = {0: \"Decision Tree\", 1: \"Logistic Regression\", 2: \"SVC\", 3: \"Random Forest\", 4: \"Naive Bayes\", 5: \"K-Neighbors\"}\n",
        "\n",
        "# Evaluating models with cross-validation accuracy\n",
        "for i, model in enumerate(Models):\n",
        "    print(f\"{Models_Dict[i]} Test Accuracy: {cross_val_score(model, X, y, cv=10, scoring='accuracy').mean()}\")\n",
        "\n",
        "# Hyperparameter tuning for Logistic Regression using Grid Search\n",
        "param_grid = {\"C\": np.logspace(-4, 4, 50), \"penalty\": ['l1', 'l2']}\n",
        "grid_search = GridSearchCV(estimator=LogisticRegression(random_state=42), param_grid=param_grid, scoring=\"accuracy\", cv=10, verbose=0, n_jobs=-1)\n",
        "\n",
        "grid_search.fit(X_train, y_train)\n",
        "best_accuracy = grid_search.best_score_\n",
        "best_parameters = grid_search.best_params_\n",
        "\n",
        "print(f\"Best Accuracy: {best_accuracy*100:.2f} %\")\n",
        "print(\"Best Parameters:\", best_parameters)\n",
        "\n",
        "# Train the model with the best parameters\n",
        "Classifier = LogisticRegression(random_state=42, C=grid_search.best_params_['C'], penalty=grid_search.best_params_['penalty'])\n",
        "Classifier.fit(X_train, y_train)\n",
        "\n",
        "# Predicting on the test set\n",
        "Prediction = Classifier.predict(X_test)\n",
        "\n",
        "# Evaluating the model performance\n",
        "print(\"Accuracy on Test Data:\", accuracy_score(y_test, Prediction))\n",
        "print(\"Classification Report:\\n\", classification_report(y_test, Prediction))\n",
        "\n"
      ]
    },
    {
      "cell_type": "code",
      "execution_count": 10,
      "metadata": {},
      "outputs": [
        {
          "name": "stdout",
          "output_type": "stream",
          "text": [
            "✅ wrote processed_reviews.csv\n",
            "                                             reviews sentiment  length  \\\n",
            "0  not much_NEG write_NEG exactly 's supposed sou...  Positive     110   \n",
            "1  exactly quite affordable.i not realized_NEG do...  Positive     272   \n",
            "2  primary block would otherwise produce allowing...  Positive     143   \n",
            "\n",
            "   word_counts  \n",
            "0           18  \n",
            "1           37  \n",
            "2           21  \n"
          ]
        }
      ],
      "source": [
        "# data_processing.py\n",
        "# Creates processed_reviews.csv with negation-aware, noun-removed, lemmatized text\n",
        "\n",
        "import re\n",
        "import string\n",
        "import pandas as pd\n",
        "import nltk\n",
        "from nltk.corpus import stopwords\n",
        "from nltk import word_tokenize, pos_tag\n",
        "from nltk.stem import WordNetLemmatizer\n",
        "\n",
        "# ---- NLTK resources\n",
        "nltk.download('stopwords', quiet=True)\n",
        "nltk.download('punkt', quiet=True)\n",
        "nltk.download('wordnet', quiet=True)\n",
        "nltk.download('omw-1.4', quiet=True)\n",
        "# Newer NLTK may require the _eng tagger; download both to be safe\n",
        "nltk.download('averaged_perceptron_tagger', quiet=True)\n",
        "try:\n",
        "    nltk.download('averaged_perceptron_tagger_eng', quiet=True)\n",
        "except Exception:\n",
        "    pass\n",
        "\n",
        "# ---- Config\n",
        "NEGATORS = {\"not\", \"no\", \"never\", \"n't\"}\n",
        "PUNCT_BREAK = {'.', '!', '?', ';', ',', ':'}\n",
        "\n",
        "# ---- Helpers\n",
        "def label_row(overall: float) -> str:\n",
        "    if overall > 4.0:\n",
        "        return \"Positive\"\n",
        "    elif overall <= 2.0:\n",
        "        return \"Negative\"\n",
        "    else:\n",
        "        return \"Neutral\"\n",
        "\n",
        "def text_cleaning(text: str) -> str:\n",
        "    if not isinstance(text, str):\n",
        "        text = \"\" if pd.isna(text) else str(text)\n",
        "    text = text.lower()\n",
        "    # Remove links, numbers, punctuation → space\n",
        "    text = re.sub(r'https?://\\S+|www\\.\\S+', ' ', text)  # raw string to avoid warnings\n",
        "    text = re.sub(r'\\d+', ' ', text)\n",
        "    # Keep punctuation as separate tokens for negation breaks\n",
        "    # (We'll handle punctuation via tokenizer; no need to strip here fully)\n",
        "    text = text.replace('\\n', ' ')\n",
        "    # Compact spaces\n",
        "    text = re.sub(r'\\s+', ' ', text).strip()\n",
        "    return text\n",
        "\n",
        "# Keep 'not' in vocabulary (don’t remove)\n",
        "STOPWORDS = set(stopwords.words('english')) - {\"not\"}\n",
        "LEMM = WordNetLemmatizer()\n",
        "\n",
        "def text_processing_negation_and_pos(text: str) -> str:\n",
        "    \"\"\"\n",
        "    - Tokenize\n",
        "    - Apply negation scope: after a negator, append _NEG to subsequent tokens until punctuation\n",
        "    - Remove stopwords\n",
        "    - Remove NOUNS (NN, NNS, NNP, NNPS)\n",
        "    - Lemmatize\n",
        "    \"\"\"\n",
        "    tokens = word_tokenize(text)\n",
        "    tagged = pos_tag(tokens)\n",
        "    out = []\n",
        "    negate = False\n",
        "\n",
        "    for (tok, tag) in tagged:\n",
        "        low = tok.lower()\n",
        "\n",
        "        # punctuation → end negation scope\n",
        "        if low in PUNCT_BREAK:\n",
        "            negate = False\n",
        "            continue\n",
        "\n",
        "        # Start/keep negation scope\n",
        "        if low in NEGATORS:\n",
        "            negate = True\n",
        "            # keep the negator token itself (helps model)\n",
        "            if low not in STOPWORDS:\n",
        "                out.append(LEMM.lemmatize(low))\n",
        "            continue\n",
        "\n",
        "        # Skip nouns\n",
        "        if tag in ('NN', 'NNS', 'NNP', 'NNPS'):\n",
        "            continue\n",
        "\n",
        "        # Skip stopwords\n",
        "        if low in STOPWORDS:\n",
        "            continue\n",
        "\n",
        "        base = LEMM.lemmatize(low)\n",
        "        if negate:\n",
        "            base = base + \"_NEG\"\n",
        "        out.append(base)\n",
        "\n",
        "    return \" \".join(out)\n",
        "\n",
        "def main():\n",
        "    # ---- Load\n",
        "    df = pd.read_csv(\"Instruments_Reviews.csv\")\n",
        "\n",
        "    # Robust combine\n",
        "    df[\"reviewText\"] = df[\"reviewText\"].astype(str).fillna(\"\")\n",
        "    df[\"summary\"]    = df[\"summary\"].astype(str).fillna(\"\")\n",
        "    df[\"reviews_raw\"] = (df[\"reviewText\"] + \" \" + df[\"summary\"]).str.strip()\n",
        "\n",
        "    # Label\n",
        "    df[\"sentiment\"] = df[\"overall\"].apply(label_row)\n",
        "\n",
        "    # Clean + Process\n",
        "    df[\"reviews_clean\"] = df[\"reviews_raw\"].apply(text_cleaning)\n",
        "    df[\"reviews\"] = df[\"reviews_clean\"].apply(text_processing_negation_and_pos)\n",
        "\n",
        "    # Optional extras (length features)\n",
        "    df[\"length\"] = df[\"reviews\"].str.len()\n",
        "    df[\"word_counts\"] = df[\"reviews\"].str.split().str.len()\n",
        "\n",
        "    # Save a compact processed file\n",
        "    out = df[[\"reviews\", \"sentiment\", \"length\", \"word_counts\"]].copy()\n",
        "    out.to_csv(\"processed_reviews.csv\", index=False)\n",
        "    print(\"wrote processed_reviews.csv\")\n",
        "    print(out.head(3))\n",
        "\n",
        "if __name__ == \"__main__\":\n",
        "    main()\n"
      ]
    },
    {
      "cell_type": "code",
      "execution_count": null,
      "metadata": {},
      "outputs": [],
      "source": [
        "# model_train.py\n",
        "# Trains models on processed_reviews.csv and prints Accuracy, Precision, Recall, F1, report & confusion matrix\n",
        "\n",
        "import numpy as np\n",
        "import pandas as pd\n",
        "from sklearn.preprocessing import LabelEncoder\n",
        "from sklearn.model_selection import train_test_split, GridSearchCV, StratifiedKFold, cross_val_score\n",
        "from sklearn.feature_extraction.text import TfidfVectorizer\n",
        "from sklearn.linear_model import LogisticRegression\n",
        "from sklearn.tree import DecisionTreeClassifier\n",
        "from sklearn.svm import SVC\n",
        "from sklearn.ensemble import RandomForestClassifier\n",
        "from sklearn.naive_bayes import BernoulliNB\n",
        "from sklearn.neighbors import KNeighborsClassifier\n",
        "from sklearn.metrics import (accuracy_score, classification_report, confusion_matrix,\n",
        "                            precision_recall_fscore_support)\n",
        "from imblearn.over_sampling import SMOTE\n",
        "\n",
        "# ---- Load processed file\n",
        "df = pd.read_csv(\"processed_reviews.csv\")\n",
        "\n",
        "# Encode labels\n",
        "le = LabelEncoder()\n",
        "y = le.fit_transform(df[\"sentiment\"].values)\n",
        "X_text = df[\"reviews\"].astype(str).values\n",
        "\n",
        "# TF-IDF (use 1–2 grams so the `_NEG` tokens are learned)\n",
        "tfidf = TfidfVectorizer(max_features=5000, ngram_range=(1, 2), sublinear_tf=True, norm=\"l2\", max_df=0.9, min_df=2)\n",
        "X = tfidf.fit_transform(X_text)\n",
        "\n",
        "# (Kept exactly as your original approach) Handle class imbalance with SMOTE\n",
        "sm = SMOTE(random_state=42)\n",
        "X_final, y_final = sm.fit_resample(X, y)\n",
        "\n",
        "# Split\n",
        "X_train, X_test, y_train, y_test = train_test_split(\n",
        "    X_final, y_final, test_size=0.25, random_state=42, stratify=y_final\n",
        ")"
      ]
    },
    {
      "cell_type": "code",
      "execution_count": null,
      "metadata": {},
      "outputs": [
        {
          "name": "stdout",
          "output_type": "stream",
          "text": [
            "Accuracy: 0.8854727132974635\n",
            "Classification Report:\n",
            "              precision    recall  f1-score   support\n",
            "\n",
            "           0       0.99      0.99      0.99      1734\n",
            "           1       0.83      0.84      0.84      1735\n",
            "           2       0.84      0.82      0.83      1735\n",
            "\n",
            "    accuracy                           0.89      5204\n",
            "   macro avg       0.89      0.89      0.89      5204\n",
            "weighted avg       0.89      0.89      0.89      5204\n",
            "\n"
          ]
        }
      ],
      "source": [
        "from sklearn.ensemble import RandomForestClassifier\n",
        "from sklearn.metrics import accuracy_score, classification_report # type: ignore\n",
        "\n",
        "# Train Random Forest\n",
        "rf_model = RandomForestClassifier(n_estimators=100, random_state=42)\n",
        "rf_model.fit(X_train, y_train) # pyright: ignore[reportUnknownMemberType, reportUnknownArgumentType]\n",
        "\n",
        "# Predict on the test set\n",
        "rf_predictions = rf_model.predict(X_test) # type: ignore\n",
        "\n",
        "# Evaluate performance\n",
        "print(f\"Accuracy: {accuracy_score(y_test, rf_predictions)}\") # type: ignore\n",
        "print(f\"Classification Report:\\n{classification_report(y_test, rf_predictions)}\") # type: ignore\n"
      ]
    },
    {
      "cell_type": "code",
      "execution_count": 15,
      "metadata": {},
      "outputs": [
        {
          "name": "stdout",
          "output_type": "stream",
          "text": [
            "Accuracy: 0.9077632590315142\n"
          ]
        }
      ],
      "source": [
        "from sklearn.ensemble import VotingClassifier\n",
        "\n",
        "# Define the ensemble model with soft voting\n",
        "ensemble_model_soft = VotingClassifier(estimators=[('rf', rf_model), \n",
        "                                                ('logreg', LogisticRegression(random_state=42, C=1, penalty='l2')),\n",
        "                                                ('svm', SVC(probability=True, random_state=42))], \n",
        "                                    voting='soft')\n",
        "\n",
        "# Train the ensemble model\n",
        "ensemble_model_soft.fit(X_train, y_train)\n",
        "\n",
        "# Evaluate the ensemble model\n",
        "ensemble_predictions_soft = ensemble_model_soft.predict(X_test)\n",
        "print(f\"Accuracy: {accuracy_score(y_test, ensemble_predictions_soft)}\")"
      ]
    },
    {
      "cell_type": "code",
      "execution_count": null,
      "metadata": {},
      "outputs": [
        {
          "name": "stdout",
          "output_type": "stream",
          "text": [
            "Accuracy: 0.8822059953881629\n"
          ]
        }
      ],
      "source": [
        "from sklearn.ensemble import StackingClassifier\n",
        "from sklearn.linear_model import LogisticRegression\n",
        "\n",
        "# Base models\n",
        "base_models = [\n",
        "    ('rf', RandomForestClassifier(n_estimators=200, max_depth=10, random_state=42)),\n",
        "    ('svm', SVC(probability=True, kernel='rbf', C=1, gamma='scale', random_state=42)),\n",
        "    ('logreg', LogisticRegression(random_state=42, C=1, penalty='l2'))\n",
        "]\n",
        "\n",
        "# Meta-model (Logistic Regression as final predictor)\n",
        "meta_model = LogisticRegression()\n",
        "\n",
        "# Define the stacking model\n",
        "stacking_model = StackingClassifier(estimators=base_models, final_estimator=meta_model)\n",
        "\n",
        "# Train the stacking model\n",
        "stacking_model.fit(X_train, y_train)\n",
        "\n",
        "# Evaluate the stacking model\n",
        "stacking_predictions = stacking_model.predict(X_test)\n",
        "print(f\"Accuracy: {accuracy_score(y_test, stacking_predictions)}\")\n"
      ]
    },
    {
      "cell_type": "code",
      "execution_count": null,
      "metadata": {},
      "outputs": [
        {
          "name": "stderr",
          "output_type": "stream",
          "text": [
            "c:\\Users\\ASUS\\miniconda3\\Lib\\site-packages\\sklearn\\linear_model\\_logistic.py:1296: FutureWarning: Using the 'liblinear' solver for multiclass classification is deprecated. An error will be raised in 1.8. Either use another solver which supports the multinomial loss or wrap the estimator in a OneVsRestClassifier to keep applying a one-versus-rest scheme.\n",
            "  warnings.warn(\n"
          ]
        },
        {
          "name": "stdout",
          "output_type": "stream",
          "text": [
            "Accuracy: 0.8710607225211375\n"
          ]
        }
      ],
      "source": [
        "from sklearn.ensemble import VotingClassifier\n",
        "from sklearn.metrics import accuracy_score\n",
        "\n",
        "# Define models\n",
        "rf_model = RandomForestClassifier(n_estimators=100, max_depth=10, random_state=42)\n",
        "logreg_model = LogisticRegression(C=1, penalty='l2', solver='liblinear')\n",
        "svm_model = SVC(probability=True, kernel='rbf', random_state=42)\n",
        "\n",
        "# Define ensemble model with soft voting\n",
        "ensemble_model_soft = VotingClassifier(\n",
        "    estimators=[('rf', rf_model), ('logreg', logreg_model), ('svm', svm_model)], \n",
        "    voting='soft'\n",
        ")\n",
        "\n",
        "# Train the ensemble model\n",
        "ensemble_model_soft.fit(X_train, y_train)\n",
        "\n",
        "# Evaluate the ensemble model\n",
        "ensemble_predictions_soft = ensemble_model_soft.predict(X_test)\n",
        "print(f\"Accuracy: {accuracy_score(y_test, ensemble_predictions_soft)}\")\n"
      ]
    }
  ],
  "metadata": {
    "colab": {
      "name": "Sentiment Analysis.ipynb",
      "provenance": [],
      "toc_visible": true
    },
    "kernelspec": {
      "display_name": "base",
      "language": "python",
      "name": "python3"
    },
    "language_info": {
      "codemirror_mode": {
        "name": "ipython",
        "version": 3
      },
      "file_extension": ".py",
      "mimetype": "text/x-python",
      "name": "python",
      "nbconvert_exporter": "python",
      "pygments_lexer": "ipython3",
      "version": "3.13.5"
    }
  },
  "nbformat": 4,
  "nbformat_minor": 0
}
